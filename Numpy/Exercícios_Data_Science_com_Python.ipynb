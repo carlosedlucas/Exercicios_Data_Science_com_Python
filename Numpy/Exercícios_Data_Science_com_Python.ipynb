{
  "nbformat": 4,
  "nbformat_minor": 0,
  "metadata": {
    "colab": {
      "name": "Exercícios Data Science com Python",
      "provenance": []
    },
    "kernelspec": {
      "name": "python3",
      "display_name": "Python 3"
    },
    "language_info": {
      "name": "python"
    }
  },
  "cells": [
    {
      "cell_type": "markdown",
      "metadata": {
        "id": "dSMbwGmnXNzw"
      },
      "source": [
        "# Exercício 1\n",
        "**Inspecionando um Array NumPy**\n",
        "\n",
        "Um objeto numpy possui atributos e métodos, herdados da classe (numpy.ndarray). Crie um array  e inspecione os seguintes atributos:\n",
        "\n",
        "shape: uma tupla que contém o número de elementos (tamanho) em cada dimensão do array;\n",
        "\n",
        "size: número total de elementos do array;\n",
        "\n",
        "ndim: número de dimensões (eixos);\n",
        "\n",
        "nbytes: número de bytes utilizado no armazenamento dos dados;\n",
        "\n",
        "dtype: data type dos elementos do array."
      ]
    },
    {
      "cell_type": "code",
      "metadata": {
        "colab": {
          "base_uri": "https://localhost:8080/"
        },
        "id": "V0YBbDC9XFTC",
        "outputId": "f5cbee6e-e454-4905-d04a-64f4386c4d67"
      },
      "source": [
        "import numpy as np\n",
        "\n",
        "array = np.array([1, 2, 3, 4, 5, 6, 7])\n",
        "\n",
        "print('Shape:', array.shape)\n",
        "print('Size:', array.size)\n",
        "print('Eixos:', array.ndim)\n",
        "print('Bytes:', array.nbytes)\n",
        "print('Tipo:', array.dtype)"
      ],
      "execution_count": 30,
      "outputs": [
        {
          "output_type": "stream",
          "text": [
            "Shape: (7,)\n",
            "Size: 7\n",
            "Eixos: 1\n",
            "Bytes: 56\n",
            "Tipo: int64\n"
          ],
          "name": "stdout"
        }
      ]
    },
    {
      "cell_type": "markdown",
      "metadata": {
        "id": "6GTaU9Lrb_3j"
      },
      "source": [
        "# Exercício 2\n",
        "\n",
        "Com base no exercício anterior crie uma função que receba um array e mostre na tela seus atributos. Verifique se o argumento inserido é de fato um objeto numpy. Use também a função built-in type() para verificar a classe do objeto.\n",
        "\n",
        "\n",
        "---\n",
        "\n",
        "\n",
        "Retorno esperado:\n",
        "\n",
        "inspecionar_array(np.array([1,2,3]))\n",
        " \n",
        "Shape : (3,)\n",
        "\n",
        "Size:  3\n",
        "\n",
        "Ndim:  1\n",
        "\n",
        "Nbytes:  24\n",
        "\n",
        "Dtype:  int64\n",
        "\n",
        "Type:  <class 'numpy.ndarray'>\n",
        "\n",
        "array([1, 2, 3, 4])\n",
        "\n",
        "\n",
        "inspecionar_array([1,2,3])\n",
        " \n",
        "'O objeto inserido não é um array NumPy.'"
      ]
    },
    {
      "cell_type": "code",
      "metadata": {
        "colab": {
          "base_uri": "https://localhost:8080/",
          "height": 137
        },
        "id": "5jUcRm_RcQoj",
        "outputId": "79213d82-534a-481b-81e4-042f6d4cd16a"
      },
      "source": [
        "def inspecionar_array(a):\n",
        "  if isinstance(a,np.ndarray):\n",
        "    print('Shape:', a.shape)\n",
        "    print('Size:', a.size)\n",
        "    print('Eixos:', a.ndim)\n",
        "    print('Bytes', a.nbytes)\n",
        "    print('Tipo:', a.dtype)\n",
        "    print('Tipo:', type(a))\n",
        "    return a\n",
        "  else:\n",
        "    return 'O objeto inserido não é um array NumPy.'\n",
        "\n",
        "\n",
        "array = np.array([1,2,3,4,5,6,7,8,9,10])\n",
        "lista = [1,2,3,4,5,6]\n",
        "\n",
        "inspecionar_array(array)\n",
        "inspecionar_array(lista)"
      ],
      "execution_count": 31,
      "outputs": [
        {
          "output_type": "stream",
          "text": [
            "Shape: (10,)\n",
            "Size: 10\n",
            "Eixos: 1\n",
            "Bytes 80\n",
            "Tipo: int64\n",
            "Tipo: <class 'numpy.ndarray'>\n"
          ],
          "name": "stdout"
        },
        {
          "output_type": "execute_result",
          "data": {
            "application/vnd.google.colaboratory.intrinsic+json": {
              "type": "string"
            },
            "text/plain": [
              "'O objeto inserido não é um array NumPy.'"
            ]
          },
          "metadata": {
            "tags": []
          },
          "execution_count": 31
        }
      ]
    },
    {
      "cell_type": "markdown",
      "metadata": {
        "id": "PzMmAjxwCE4C"
      },
      "source": [
        "# Exercício 3\n",
        "\n",
        "Use a função np.array() para criar os arrays unidimensionais listados abaixo:\n",
        "\n",
        "a) Use uma lista como argumento e obtenha:\n",
        "\n",
        "array([-1,  4,  7,  9])\n",
        "\n",
        "---\n",
        "\n",
        "b) Use a função range() e obtenha:\n",
        "    \n",
        "array([ 1,  2,  3,  4,  5,  6,  7,  8,  9, 10])\n",
        "\n",
        "---\n",
        "\n",
        "c)Use uma tupla como argumento e obtenha:\n",
        "    \n",
        "array([10, 11, 12, 13, 14])\n",
        "\n",
        "---\n",
        "\n",
        "d) Use a função range() e obtenha:\n",
        "    \n",
        "array([1990, 1995, 2000, 2005, 2010, 2015, 2020])\n",
        "\n",
        "---\n",
        "\n",
        "e) Use a função range() e obtenha:\n",
        "\n",
        "array([2020, 2010, 2000, 1990, 1980, 1970, 1960, 1950, 1940, 1930, 1920,\n",
        "       1910, 1900])\n",
        "\n",
        "---\n",
        "\n",
        "f) Obtenha:\n",
        "\n",
        "array(100)"
      ]
    },
    {
      "cell_type": "code",
      "metadata": {
        "colab": {
          "base_uri": "https://localhost:8080/"
        },
        "id": "SsQHMX0wCmBd",
        "outputId": "6cd81a47-8370-4892-cb28-bd2294c237ae"
      },
      "source": [
        "def funcaoNpArray(a):\n",
        "  return print(np.array(a))\n",
        "\n",
        "# Letra a)\n",
        "vetor = np.array(range(-2,11))\n",
        "index = [0,2,3,4,5,7,8,10,12]\n",
        "funcaoNpArray(np.delete(vetor, index))\n",
        "\n",
        "# Letra b)\n",
        "funcaoRange = np.array(range(1,11))\n",
        "\n",
        "\n",
        "# Letra c)\n",
        "\n",
        "tupla = np.array((10,11,12,13,14))\n",
        "\n",
        "\n",
        "\n",
        "\n",
        "\n",
        "\n",
        "\n",
        "\n"
      ],
      "execution_count": 48,
      "outputs": [
        {
          "output_type": "stream",
          "text": [
            "[-1  4  7  9]\n"
          ],
          "name": "stdout"
        }
      ]
    }
  ]
}