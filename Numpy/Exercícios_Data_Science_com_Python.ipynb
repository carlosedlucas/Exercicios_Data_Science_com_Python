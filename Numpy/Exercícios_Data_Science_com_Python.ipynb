{
  "nbformat": 4,
  "nbformat_minor": 0,
  "metadata": {
    "colab": {
      "name": "Exercícios Data Science com Python",
      "provenance": [],
      "collapsed_sections": []
    },
    "kernelspec": {
      "name": "python3",
      "display_name": "Python 3"
    },
    "language_info": {
      "name": "python"
    }
  },
  "cells": [
    {
      "cell_type": "markdown",
      "metadata": {
        "id": "dSMbwGmnXNzw"
      },
      "source": [
        "# Exercício 1\n",
        "**Inspecionando um Array NumPy**\n",
        "\n",
        "Um objeto numpy possui atributos e métodos, herdados da classe (numpy.ndarray). Crie um array  e inspecione os seguintes atributos:\n",
        "\n",
        "shape: uma tupla que contém o número de elementos (tamanho) em cada dimensão do array;\n",
        "\n",
        "size: número total de elementos do array;\n",
        "\n",
        "ndim: número de dimensões (eixos);\n",
        "\n",
        "nbytes: número de bytes utilizado no armazenamento dos dados;\n",
        "\n",
        "dtype: data type dos elementos do array."
      ]
    },
    {
      "cell_type": "code",
      "metadata": {
        "colab": {
          "base_uri": "https://localhost:8080/"
        },
        "id": "V0YBbDC9XFTC",
        "outputId": "6a0d5585-c8a6-4083-b659-b340ffba514d"
      },
      "source": [
        "import numpy as np\n",
        "\n",
        "array = np.array([1, 2, 3, 4, 5, 6, 7])\n",
        "\n",
        "print('Shape:', array.shape)\n",
        "print('Size:', array.size)\n",
        "print('Eixos:', array.ndim)\n",
        "print('Bytes:', array.nbytes)\n",
        "print('Tipo:', array.dtype)"
      ],
      "execution_count": 2,
      "outputs": [
        {
          "output_type": "stream",
          "text": [
            "Shape: (7,)\n",
            "Size: 7\n",
            "Eixos: 1\n",
            "Bytes: 56\n",
            "Tipo: int64\n"
          ],
          "name": "stdout"
        }
      ]
    },
    {
      "cell_type": "markdown",
      "metadata": {
        "id": "6GTaU9Lrb_3j"
      },
      "source": [
        "# Exercício 2\n",
        "\n",
        "Com base no exercício anterior crie uma função que receba um array e mostre na tela seus atributos. Verifique se o argumento inserido é de fato um objeto numpy. Use também a função built-in type() para verificar a classe do objeto.\n",
        "\n",
        "\n",
        "---\n",
        "\n",
        "\n",
        "Retorno esperado:\n",
        "\n",
        "inspecionar_array(np.array([1,2,3]))\n",
        " \n",
        "Shape : (3,)\n",
        "\n",
        "Size:  3\n",
        "\n",
        "Ndim:  1\n",
        "\n",
        "Nbytes:  24\n",
        "\n",
        "Dtype:  int64\n",
        "\n",
        "Type:  <class 'numpy.ndarray'>\n",
        "\n",
        "array([1, 2, 3, 4])\n",
        "\n",
        "\n",
        "inspecionar_array([1,2,3])\n",
        " \n",
        "'O objeto inserido não é um array NumPy.'"
      ]
    },
    {
      "cell_type": "code",
      "metadata": {
        "colab": {
          "base_uri": "https://localhost:8080/",
          "height": 137
        },
        "id": "5jUcRm_RcQoj",
        "outputId": "0770943f-b901-43e5-9486-0f4a7155927d"
      },
      "source": [
        "def inspecionar_array(a):\n",
        "  if isinstance(a,np.ndarray):\n",
        "    print('Shape:', a.shape)\n",
        "    print('Size:', a.size)\n",
        "    print('Eixos:', a.ndim)\n",
        "    print('Bytes', a.nbytes)\n",
        "    print('Tipo:', a.dtype)\n",
        "    print('Tipo:', type(a))\n",
        "    return a\n",
        "  else:\n",
        "    return 'O objeto inserido não é um array NumPy.'\n",
        "\n",
        "\n",
        "array = np.array([1,2,3,4,5,6,7,8,9,10])\n",
        "lista = [1,2,3,4,5,6]\n",
        "\n",
        "inspecionar_array(array)\n",
        "inspecionar_array(lista)"
      ],
      "execution_count": null,
      "outputs": [
        {
          "output_type": "stream",
          "text": [
            "Shape: (10,)\n",
            "Size: 10\n",
            "Eixos: 1\n",
            "Bytes 80\n",
            "Tipo: int64\n",
            "Tipo: <class 'numpy.ndarray'>\n"
          ],
          "name": "stdout"
        },
        {
          "output_type": "execute_result",
          "data": {
            "application/vnd.google.colaboratory.intrinsic+json": {
              "type": "string"
            },
            "text/plain": [
              "'O objeto inserido não é um array NumPy.'"
            ]
          },
          "metadata": {
            "tags": []
          },
          "execution_count": 3
        }
      ]
    },
    {
      "cell_type": "markdown",
      "metadata": {
        "id": "PzMmAjxwCE4C"
      },
      "source": [
        "# Exercício 3\n",
        "\n",
        "Use a função np.array() para criar os arrays unidimensionais listados abaixo:\n",
        "\n",
        "a) Use uma lista como argumento e obtenha:\n",
        "\n",
        "array([-1,  4,  7,  9])\n",
        "\n",
        "---\n",
        "\n",
        "b) Use a função range() e obtenha:\n",
        "    \n",
        "array([ 1,  2,  3,  4,  5,  6,  7,  8,  9, 10])\n",
        "\n",
        "---\n",
        "\n",
        "c)Use uma tupla como argumento e obtenha:\n",
        "    \n",
        "array([10, 11, 12, 13, 14])\n",
        "\n",
        "---\n",
        "\n",
        "d) Use a função range() e obtenha:\n",
        "    \n",
        "array([1990, 1995, 2000, 2005, 2010, 2015, 2020])\n",
        "\n",
        "---\n",
        "\n",
        "e) Use a função range() e obtenha:\n",
        "\n",
        "array([2020, 2010, 2000, 1990, 1980, 1970, 1960, 1950, 1940, 1930, 1920,\n",
        "       1910, 1900])\n",
        "\n",
        "---\n",
        "\n",
        "f) Obtenha:\n",
        "\n",
        "array(100)"
      ]
    },
    {
      "cell_type": "code",
      "metadata": {
        "colab": {
          "base_uri": "https://localhost:8080/"
        },
        "id": "SsQHMX0wCmBd",
        "outputId": "b0daf436-1142-4f02-b736-25156e76489b"
      },
      "source": [
        "def funcaoNpArray(a):\n",
        "  return print(np.array(a))\n",
        "\n",
        "# Letra a)\n",
        "vetor = np.array(range(-2,11))\n",
        "index = [0,2,3,4,5,7,8,10,12]\n",
        "funcaoNpArray(np.delete(vetor, index))\n",
        "\n",
        "# Letra b)\n",
        "funcaoNpArray(range(1,11))\n",
        "\n",
        "# Letra c)\n",
        "tupla = (10,11,12,13,14)\n",
        "funcaoNpArray(tupla)\n",
        "\n",
        "# Letra d)\n",
        "funcaoNpArray(range(1990,2021,5))\n",
        "\n",
        "# Letra e)\n",
        "funcaoNpArray(range(2020,1899,-10))\n",
        "\n",
        "# Letra f)\n",
        "funcaoNpArray(100)"
      ],
      "execution_count": null,
      "outputs": [
        {
          "output_type": "stream",
          "text": [
            "[-1  4  7  9]\n",
            "[ 1  2  3  4  5  6  7  8  9 10]\n",
            "[10 11 12 13 14]\n",
            "[1990 1995 2000 2005 2010 2015 2020]\n",
            "[2020 2010 2000 1990 1980 1970 1960 1950 1940 1930 1920 1910 1900]\n",
            "100\n"
          ],
          "name": "stdout"
        }
      ]
    },
    {
      "cell_type": "markdown",
      "metadata": {
        "id": "4Hl3yBvNJ0zX"
      },
      "source": [
        "# Exercício 4\n",
        "\n",
        "A função np.ones() permite criar um array preenchido com o número 1 em todas as suas entradas. Podemos especificar como argumentos o shape e o tipo de dado dtype do array. Use esta função para criar os arrays a seguir:\n",
        "\n",
        "```\n",
        "a) array([1., 1., 1., 1., 1., 1., 1., 1., 1., 1.])\n",
        "\n",
        "b) array([[1., 1., 1., 1.],\n",
        "           [1., 1., 1., 1.],\n",
        "           [1., 1., 1., 1.],\n",
        "           [1., 1., 1., 1.]])\n",
        "\n",
        "c) array([[1, 1],\n",
        "          [1, 1],\n",
        "          [1, 1]])\n",
        "```"
      ]
    },
    {
      "cell_type": "code",
      "metadata": {
        "colab": {
          "base_uri": "https://localhost:8080/"
        },
        "id": "a1Y9L4BaLOgg",
        "outputId": "64dda423-9bee-48d9-ad54-31ec003dd895"
      },
      "source": [
        "# Letra a)\n",
        "tenNumbersOne = np.ones(10)\n",
        "print(tenLines)\n",
        "\n",
        "# Letra b)\n",
        "matrix1 = np.ones(shape=(4,4))\n",
        "print(matrix1)\n",
        "\n",
        "# Letra c)\n",
        "matrix2 = np.ones(shape=(3,2), dtype=int)\n",
        "print(matrix2)"
      ],
      "execution_count": null,
      "outputs": [
        {
          "output_type": "stream",
          "text": [
            "[1. 1. 1. 1. 1. 1. 1. 1. 1. 1.]\n",
            "[[1. 1. 1. 1.]\n",
            " [1. 1. 1. 1.]\n",
            " [1. 1. 1. 1.]\n",
            " [1. 1. 1. 1.]]\n",
            "[[1 1]\n",
            " [1 1]\n",
            " [1 1]]\n"
          ],
          "name": "stdout"
        }
      ]
    },
    {
      "cell_type": "markdown",
      "metadata": {
        "id": "kiCoCbsSQtjH"
      },
      "source": [
        "# Exercício 5\n",
        "\n",
        "A função np.zeros() permite criar um array preenchido com o número 0 em todas as suas entradas. Podemos especificar como argumentos o shape e o tipo de dado dtype do array (default é o float). Use esta função para criar os arrays a seguir:\n",
        "\n",
        "```\n",
        "a) array([0., 0., 0., 0., 0., 0., 0., 0., 0., 0.])\n",
        "\n",
        "\n",
        "b) array([[0., 0.],\n",
        "         [0., 0.]])  \n",
        "       \n",
        "\n",
        "c) array([[0., 0., 0., 0., 0., 0.],\n",
        "         [0., 0., 0., 0., 0., 0.],\n",
        "         [0., 0., 0., 0., 0., 0.],\n",
        "         [0., 0., 0., 0., 0., 0.]])\n",
        "\n",
        "```"
      ]
    },
    {
      "cell_type": "code",
      "metadata": {
        "colab": {
          "base_uri": "https://localhost:8080/"
        },
        "id": "8SoVON8MRJzv",
        "outputId": "3ebdae20-9e72-49f3-af34-aa146ab3c4be"
      },
      "source": [
        "# Letra a)\n",
        "tenNumbersZero = np.zeros(10)\n",
        "print(tenNumbersZero)\n",
        "\n",
        "# Letra b)\n",
        "matrix1 = np.zeros(shape=(2,2))\n",
        "print(matrix1)\n",
        "\n",
        "# Letra c)\n",
        "matrix2 = np.zeros(shape=(4,6))\n",
        "print(matrix2)"
      ],
      "execution_count": null,
      "outputs": [
        {
          "output_type": "stream",
          "text": [
            "[0. 0. 0. 0. 0. 0. 0. 0. 0. 0.]\n",
            "[[0. 0.]\n",
            " [0. 0.]]\n",
            "[[0. 0. 0. 0. 0. 0.]\n",
            " [0. 0. 0. 0. 0. 0.]\n",
            " [0. 0. 0. 0. 0. 0.]\n",
            " [0. 0. 0. 0. 0. 0.]]\n"
          ],
          "name": "stdout"
        }
      ]
    },
    {
      "cell_type": "markdown",
      "metadata": {
        "id": "gp2WrXoFrkO3"
      },
      "source": [
        "# Exercício 6\n",
        "\n",
        "Crie os arrays a seguir:\n",
        "\n",
        "```\n",
        "a) array([[10],\n",
        "         [15],\n",
        "         [20],\n",
        "         [25],\n",
        "         [30],\n",
        "         [35],\n",
        "         [40],\n",
        "         [45]])\n",
        "\n",
        "b) array([-50, -45, -40, -35, -30, -25, -20, -15, -10,  -5])\n",
        "\n",
        "c) array([[ 50,  52,  54,  56,  58,  60,  62,  64,  66,  68],\n",
        "          [ 70,  72,  74,  76,  78,  80,  82,  84,  86,  88],\n",
        "          [ 90,  92,  94,  96,  98, 100, 102, 104, 106, 108],\n",
        "          [110, 112, 114, 116, 118, 120, 122, 124, 126, 128],\n",
        "          [130, 132, 134, 136, 138, 140, 142, 144, 146, 148]])\n",
        "       \n",
        "Dica: use np.arange() ou np.array(range()).\n",
        "```"
      ]
    },
    {
      "cell_type": "code",
      "metadata": {
        "colab": {
          "base_uri": "https://localhost:8080/"
        },
        "id": "web4fUnKsAKf",
        "outputId": "6dd52a68-e296-457d-a14d-a025314bdf8c"
      },
      "source": [
        "# Letra a)\n",
        "matrix1 = np.arange(10,46,5).reshape(-1,1)\n",
        "print(matrix1)\n",
        "\n",
        "# Letra b)\n",
        "matrix2 = np.arange(-50,-4, 5)\n",
        "print(matrix2)\n",
        "\n",
        "# Letra c)\n",
        "matrix3 = np.arange(50,150, 2).reshape(-1,10)\n",
        "print(matrix3)\n"
      ],
      "execution_count": null,
      "outputs": [
        {
          "output_type": "stream",
          "text": [
            "[[10]\n",
            " [15]\n",
            " [20]\n",
            " [25]\n",
            " [30]\n",
            " [35]\n",
            " [40]\n",
            " [45]]\n",
            "[-50 -45 -40 -35 -30 -25 -20 -15 -10  -5]\n",
            "[[ 50  52  54  56  58  60  62  64  66  68]\n",
            " [ 70  72  74  76  78  80  82  84  86  88]\n",
            " [ 90  92  94  96  98 100 102 104 106 108]\n",
            " [110 112 114 116 118 120 122 124 126 128]\n",
            " [130 132 134 136 138 140 142 144 146 148]]\n"
          ],
          "name": "stdout"
        }
      ]
    },
    {
      "cell_type": "markdown",
      "metadata": {
        "id": "jrJeK0fS0RYy"
      },
      "source": [
        "# Exercício 7\n",
        "\n",
        "Utilize a função np.full(shape, fill_value, dtype) para criar os arrays a seguir. Esta função permite criar um array com um shape e dtype definidos pelo usuário, preenchido com um determinado valor.\n",
        "\n",
        "```\n",
        "a) array([5., 5., 5., 5., 5., 5., 5., 5., 5., 5.])\n",
        "\n",
        "b) array([[-5., -5., -5., -5.],\n",
        "         [-5., -5., -5., -5.],\n",
        "         [-5., -5., -5., -5.],\n",
        "         [-5., -5., -5., -5.]])\n",
        "\n",
        "c) array([[3, 3, 3],\n",
        "         [3, 3, 3],\n",
        "         [3, 3, 3]])\n",
        "\n",
        "d) array([[50, 50, 50, 50, 50, 50, 50, 50, 50, 50],\n",
        "         [50, 50, 50, 50, 50, 50, 50, 50, 50, 50],\n",
        "         [50, 50, 50, 50, 50, 50, 50, 50, 50, 50],\n",
        "         [50, 50, 50, 50, 50, 50, 50, 50, 50, 50],\n",
        "         [50, 50, 50, 50, 50, 50, 50, 50, 50, 50],\n",
        "         [50, 50, 50, 50, 50, 50, 50, 50, 50, 50],\n",
        "         [50, 50, 50, 50, 50, 50, 50, 50, 50, 50],\n",
        "         [50, 50, 50, 50, 50, 50, 50, 50, 50, 50],\n",
        "         [50, 50, 50, 50, 50, 50, 50, 50, 50, 50],\n",
        "         [50, 50, 50, 50, 50, 50, 50, 50, 50, 50]])\n",
        "```\n",
        "\n",
        "Dica: outra possibilidade seria obter os arrays com uma operação diferente, a partir da multiplicação de uma matriz preenchida com número 1 por um determinado valor.\n"
      ]
    },
    {
      "cell_type": "code",
      "metadata": {
        "colab": {
          "base_uri": "https://localhost:8080/"
        },
        "id": "q1WK4fmi0pT5",
        "outputId": "e0f4bc67-033d-4f6d-f8fb-242dbfd8829d"
      },
      "source": [
        "# Letra a)\n",
        "matrix1 = np.full(shape=10,fill_value=5.0)\n",
        "print(matrix1)\n",
        "\n",
        "# Letra b)\n",
        "matrix2 = np.full(shape=(5,5),fill_value=-5.0)\n",
        "print(matrix2)\n",
        "\n",
        "# Letra c)\n",
        "matrix3 = np.full(shape=(10,10),fill_value=50)\n",
        "print(matrix3)"
      ],
      "execution_count": null,
      "outputs": [
        {
          "output_type": "stream",
          "text": [
            "[5. 5. 5. 5. 5. 5. 5. 5. 5. 5.]\n",
            "[[-5. -5. -5. -5. -5.]\n",
            " [-5. -5. -5. -5. -5.]\n",
            " [-5. -5. -5. -5. -5.]\n",
            " [-5. -5. -5. -5. -5.]\n",
            " [-5. -5. -5. -5. -5.]]\n",
            "[[50 50 50 50 50 50 50 50 50 50]\n",
            " [50 50 50 50 50 50 50 50 50 50]\n",
            " [50 50 50 50 50 50 50 50 50 50]\n",
            " [50 50 50 50 50 50 50 50 50 50]\n",
            " [50 50 50 50 50 50 50 50 50 50]\n",
            " [50 50 50 50 50 50 50 50 50 50]\n",
            " [50 50 50 50 50 50 50 50 50 50]\n",
            " [50 50 50 50 50 50 50 50 50 50]\n",
            " [50 50 50 50 50 50 50 50 50 50]\n",
            " [50 50 50 50 50 50 50 50 50 50]]\n"
          ],
          "name": "stdout"
        }
      ]
    },
    {
      "cell_type": "markdown",
      "metadata": {
        "id": "hcd8S87p5Qe9"
      },
      "source": [
        "# Exercício 8\n",
        "\n",
        "Defina o array K e verifique se há dados ausentes (missing data). Use a função np.isnan().\n",
        "```\n",
        "array([[ nan,   1.,  10.,   0.],\n",
        "       [ nan,  nan,  nan,  nan],\n",
        "       [100.,  50.,  nan, -25.],\n",
        "       [ 30.,  nan,  nan, 130.]])\n",
        "```"
      ]
    },
    {
      "cell_type": "code",
      "metadata": {
        "colab": {
          "base_uri": "https://localhost:8080/"
        },
        "id": "aNP1VeSk5pwB",
        "outputId": "7836f3e2-fc21-402a-8910-87142dbe1cfa"
      },
      "source": [
        "k = np.array([[ np.nan,   1.,  10.,   0.],\n",
        "           [ np.nan,  np.nan,  np.nan,  np.nan],\n",
        "           [100.,  50.,  np.nan, -25.],\n",
        "           [ 30.,  np.nan,  np.nan, 130.]])\n",
        "\n",
        "print(np.isnan(k))"
      ],
      "execution_count": 18,
      "outputs": [
        {
          "output_type": "stream",
          "text": [
            "[[ True False False False]\n",
            " [ True  True  True  True]\n",
            " [False False  True False]\n",
            " [False  True  True False]]\n"
          ],
          "name": "stdout"
        }
      ]
    },
    {
      "cell_type": "markdown",
      "metadata": {
        "id": "zVSQ1ZwWS2cV"
      },
      "source": [
        "# Exercício 9\n",
        "\n",
        "A função np.linspace() retorna um array com números contendo espaçamento uniforme em um intervalo definido. Crie um array com números dentro do intervalo [1,21] em 5 partes.\n",
        "\n",
        "Retorno esperado:\n",
        "\n",
        "array([ 1.,  6., 11., 16., 21.])"
      ]
    },
    {
      "cell_type": "code",
      "metadata": {
        "colab": {
          "base_uri": "https://localhost:8080/"
        },
        "id": "9DAvo49qS9Mf",
        "outputId": "178bdde5-45a5-420e-aa87-411a61912b92"
      },
      "source": [
        "array = np.linspace(1,21,5)\n",
        "print(array)"
      ],
      "execution_count": 20,
      "outputs": [
        {
          "output_type": "stream",
          "text": [
            "[ 1.  6. 11. 16. 21.]\n"
          ],
          "name": "stdout"
        }
      ]
    },
    {
      "cell_type": "markdown",
      "metadata": {
        "id": "llsWhqlkTbwY"
      },
      "source": [
        "# Exercício 10\n",
        "\n",
        "A função np.logspace() retorna números com espaçamento uniforme em uma escala logarítmica. Crie um array com números dentro do intervalo [1,51] em 10 partes com a função np.logspace().\n",
        "\n",
        "Retorno esperado:\n",
        "\n",
        "```\n",
        "array([[1.00000000e+01],\n",
        "       [3.59381366e+06],\n",
        "       [1.29154967e+12],\n",
        "       [4.64158883e+17],\n",
        "       [1.66810054e+23],\n",
        "       [5.99484250e+28],\n",
        "       [2.15443469e+34],\n",
        "       [7.74263683e+39],\n",
        "       [2.78255940e+45],\n",
        "       [1.00000000e+51]])\n",
        "```"
      ]
    },
    {
      "cell_type": "code",
      "metadata": {
        "colab": {
          "base_uri": "https://localhost:8080/"
        },
        "id": "As8_WTXHVWAk",
        "outputId": "327c356e-331b-4e74-90d0-6cad5bca9e9a"
      },
      "source": [
        "A = np.logspace(1,51,10).reshape(-1,1)\n",
        "print(A)"
      ],
      "execution_count": 36,
      "outputs": [
        {
          "output_type": "stream",
          "text": [
            "[[1.00000000e+01]\n",
            " [3.59381366e+06]\n",
            " [1.29154967e+12]\n",
            " [4.64158883e+17]\n",
            " [1.66810054e+23]\n",
            " [5.99484250e+28]\n",
            " [2.15443469e+34]\n",
            " [7.74263683e+39]\n",
            " [2.78255940e+45]\n",
            " [1.00000000e+51]]\n"
          ],
          "name": "stdout"
        }
      ]
    }
  ]
}