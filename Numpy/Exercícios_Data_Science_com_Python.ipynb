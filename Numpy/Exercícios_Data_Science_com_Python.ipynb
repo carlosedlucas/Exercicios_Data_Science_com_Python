{
  "nbformat": 4,
  "nbformat_minor": 0,
  "metadata": {
    "colab": {
      "name": "Exercícios Data Science com Python",
      "provenance": []
    },
    "kernelspec": {
      "name": "python3",
      "display_name": "Python 3"
    },
    "language_info": {
      "name": "python"
    }
  },
  "cells": [
    {
      "cell_type": "markdown",
      "metadata": {
        "id": "dSMbwGmnXNzw"
      },
      "source": [
        "# Exercício 1\n",
        "**Inspecionando um Array NumPy**\n",
        "\n",
        "Um objeto numpy possui atributos e métodos, herdados da classe (numpy.ndarray). Crie um array  e inspecione os seguintes atributos:\n",
        "\n",
        "shape: uma tupla que contém o número de elementos (tamanho) em cada dimensão do array;\n",
        "\n",
        "size: número total de elementos do array;\n",
        "\n",
        "ndim: número de dimensões (eixos);\n",
        "\n",
        "nbytes: número de bytes utilizado no armazenamento dos dados;\n",
        "\n",
        "dtype: data type dos elementos do array."
      ]
    },
    {
      "cell_type": "code",
      "metadata": {
        "colab": {
          "base_uri": "https://localhost:8080/"
        },
        "id": "V0YBbDC9XFTC",
        "outputId": "08925ab5-8b8f-4c9f-92bc-764f99528ee6"
      },
      "source": [
        "import numpy as np\n",
        "\n",
        "array = np.array([1, 2, 3, 4, 5, 6, 7])\n",
        "\n",
        "print('Shape:', array.shape)\n",
        "print('Size:', array.size)\n",
        "print('Eixos:', array.ndim)\n",
        "print('Bytes:', array.nbytes)\n",
        "print('Tipo:', array.dtype)"
      ],
      "execution_count": 18,
      "outputs": [
        {
          "output_type": "stream",
          "text": [
            "Shape: (7,)\n",
            "Size: 7\n",
            "Eixos: 1\n",
            "Bytes: 56\n",
            "Tipo: int64\n"
          ],
          "name": "stdout"
        }
      ]
    },
    {
      "cell_type": "markdown",
      "metadata": {
        "id": "6GTaU9Lrb_3j"
      },
      "source": [
        "# Exercício 2\n",
        "\n",
        "Com base no exercício anterior crie uma função que receba um array e mostre na tela seus atributos. Verifique se o argumento inserido é de fato um objeto numpy. Use também a função built-in type() para verificar a classe do objeto.\n",
        "\n",
        "\n",
        "---\n",
        "\n",
        "\n",
        "Retorno esperado:\n",
        "\n",
        "inspecionar_array(np.array([1,2,3]))\n",
        " \n",
        "Shape : (3,)\n",
        "\n",
        "Size:  3\n",
        "\n",
        "Ndim:  1\n",
        "\n",
        "Nbytes:  24\n",
        "\n",
        "Dtype:  int64\n",
        "\n",
        "Type:  <class 'numpy.ndarray'>\n",
        "\n",
        "array([1, 2, 3, 4])\n",
        "\n",
        "\n",
        "inspecionar_array([1,2,3])\n",
        " \n",
        "'O objeto inserido não é um array NumPy.'"
      ]
    },
    {
      "cell_type": "code",
      "metadata": {
        "colab": {
          "base_uri": "https://localhost:8080/",
          "height": 129
        },
        "id": "5jUcRm_RcQoj",
        "outputId": "f1f82085-77c9-411f-8b58-c7460582de19"
      },
      "source": [
        "def inspecionar_array(a):\n",
        "  print('Shape:', a.shape)\n",
        "  print('Size:', a.size)\n",
        "  print('Eixos:', a.ndim)\n",
        "  print('Bytes', a.nbytes)\n",
        "  print('Tipo:', a.dtype)\n",
        "  print('Tipo:', a.type)\n",
        "  print(a)\n",
        "  if \n",
        "  return \n",
        "\n",
        "\n",
        "array = np.array([1,2,3,4,5,6,7,8,9,10])\n",
        "inspecionar_array(array)"
      ],
      "execution_count": 1,
      "outputs": [
        {
          "output_type": "error",
          "ename": "SyntaxError",
          "evalue": "ignored",
          "traceback": [
            "\u001b[0;36m  File \u001b[0;32m\"<ipython-input-1-2e35252c5f77>\"\u001b[0;36m, line \u001b[0;32m9\u001b[0m\n\u001b[0;31m    if\u001b[0m\n\u001b[0m       ^\u001b[0m\n\u001b[0;31mSyntaxError\u001b[0m\u001b[0;31m:\u001b[0m invalid syntax\n"
          ]
        }
      ]
    }
  ]
}