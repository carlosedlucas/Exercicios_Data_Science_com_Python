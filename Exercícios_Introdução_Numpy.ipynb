{
  "nbformat": 4,
  "nbformat_minor": 0,
  "metadata": {
    "colab": {
      "name": "Exercícios_Introdução_Numpy",
      "provenance": [],
      "collapsed_sections": []
    },
    "kernelspec": {
      "name": "python3",
      "display_name": "Python 3"
    },
    "language_info": {
      "name": "python"
    }
  },
  "cells": [
    {
      "cell_type": "markdown",
      "metadata": {
        "id": "dSMbwGmnXNzw"
      },
      "source": [
        "# Exercício 1\n",
        "**Inspecionando um Array NumPy**\n",
        "\n",
        "Um objeto numpy possui atributos e métodos, herdados da classe (numpy.ndarray). Crie um array  e inspecione os seguintes atributos:\n",
        "\n",
        "shape: uma tupla que contém o número de elementos (tamanho) em cada dimensão do array;\n",
        "\n",
        "size: número total de elementos do array;\n",
        "\n",
        "ndim: número de dimensões (eixos);\n",
        "\n",
        "nbytes: número de bytes utilizado no armazenamento dos dados;\n",
        "\n",
        "dtype: data type dos elementos do array."
      ]
    },
    {
      "cell_type": "code",
      "metadata": {
        "colab": {
          "base_uri": "https://localhost:8080/"
        },
        "id": "V0YBbDC9XFTC",
        "outputId": "1a74b7a2-ddad-44e7-8d52-a0e97c48a9b2"
      },
      "source": [
        "import numpy as np\n",
        "\n",
        "array = np.array([1, 2, 3, 4, 5, 6, 7])\n",
        "\n",
        "print('Shape:', array.shape)\n",
        "print('Size:', array.size)\n",
        "print('Eixos:', array.ndim)\n",
        "print('Bytes:', array.nbytes)\n",
        "print('Tipo:', array.dtype)"
      ],
      "execution_count": null,
      "outputs": [
        {
          "output_type": "stream",
          "text": [
            "Shape: (7,)\n",
            "Size: 7\n",
            "Eixos: 1\n",
            "Bytes: 56\n",
            "Tipo: int64\n"
          ],
          "name": "stdout"
        }
      ]
    },
    {
      "cell_type": "markdown",
      "metadata": {
        "id": "6GTaU9Lrb_3j"
      },
      "source": [
        "# Exercício 2\n",
        "\n",
        "Com base no exercício anterior crie uma função que receba um array e mostre na tela seus atributos. Verifique se o argumento inserido é de fato um objeto numpy. Use também a função built-in type() para verificar a classe do objeto.\n",
        "\n",
        "```\n",
        "Retorno esperado:\n",
        "\n",
        "inspecionar_array(np.array([1,2,3]))\n",
        " \n",
        "Shape : (3,)\n",
        "Size:  3\n",
        "Ndim:  1\n",
        "Nbytes:  24\n",
        "Dtype:  int64\n",
        "Type:  <class 'numpy.ndarray'>\n",
        "\n",
        "array([1, 2, 3, 4])\n",
        "\n",
        "inspecionar_array([1,2,3])\n",
        " \n",
        "'O objeto inserido não é um array NumPy.'\n",
        "```"
      ]
    },
    {
      "cell_type": "code",
      "metadata": {
        "colab": {
          "base_uri": "https://localhost:8080/",
          "height": 137
        },
        "id": "5jUcRm_RcQoj",
        "outputId": "0770943f-b901-43e5-9486-0f4a7155927d"
      },
      "source": [
        "def inspecionar_array(a):\n",
        "  if isinstance(a,np.ndarray):\n",
        "    print('Shape:', a.shape)\n",
        "    print('Size:', a.size)\n",
        "    print('Eixos:', a.ndim)\n",
        "    print('Bytes', a.nbytes)\n",
        "    print('Tipo:', a.dtype)\n",
        "    print('Tipo:', type(a))\n",
        "    return a\n",
        "  else:\n",
        "    return 'O objeto inserido não é um array NumPy.'\n",
        "\n",
        "\n",
        "array = np.array([1,2,3,4,5,6,7,8,9,10])\n",
        "lista = [1,2,3,4,5,6]\n",
        "\n",
        "inspecionar_array(array)\n",
        "inspecionar_array(lista)"
      ],
      "execution_count": null,
      "outputs": [
        {
          "output_type": "stream",
          "text": [
            "Shape: (10,)\n",
            "Size: 10\n",
            "Eixos: 1\n",
            "Bytes 80\n",
            "Tipo: int64\n",
            "Tipo: <class 'numpy.ndarray'>\n"
          ],
          "name": "stdout"
        },
        {
          "output_type": "execute_result",
          "data": {
            "application/vnd.google.colaboratory.intrinsic+json": {
              "type": "string"
            },
            "text/plain": [
              "'O objeto inserido não é um array NumPy.'"
            ]
          },
          "metadata": {
            "tags": []
          },
          "execution_count": 3
        }
      ]
    },
    {
      "cell_type": "markdown",
      "metadata": {
        "id": "PzMmAjxwCE4C"
      },
      "source": [
        "# Exercício 3\n",
        "\n",
        "Use a função np.array() para criar os arrays unidimensionais listados abaixo:\n",
        "\n",
        "```\n",
        "a) Use uma lista como argumento e obtenha:\n",
        "\n",
        "array([-1,  4,  7,  9])\n",
        "\n",
        "\n",
        "\n",
        "b) Use a função range() e obtenha:\n",
        "    \n",
        "array([ 1,  2,  3,  4,  5,  6,  7,  8,  9, 10])\n",
        "\n",
        "\n",
        "\n",
        "c)Use uma tupla como argumento e obtenha:\n",
        "    \n",
        "array([10, 11, 12, 13, 14])\n",
        "\n",
        "\n",
        "d) Use a função range() e obtenha:\n",
        "    \n",
        "array([1990, 1995, 2000, 2005, 2010, 2015, 2020])\n",
        "\n",
        "\n",
        "\n",
        "e) Use a função range() e obtenha:\n",
        "\n",
        "array([2020, 2010, 2000, 1990, 1980, 1970, 1960, 1950, 1940, 1930, 1920,\n",
        "       1910, 1900])\n",
        "\n",
        "\n",
        "f) Obtenha:\n",
        "\n",
        "array(100)\n",
        "```"
      ]
    },
    {
      "cell_type": "code",
      "metadata": {
        "colab": {
          "base_uri": "https://localhost:8080/"
        },
        "id": "SsQHMX0wCmBd",
        "outputId": "b0daf436-1142-4f02-b736-25156e76489b"
      },
      "source": [
        "def funcaoNpArray(a):\n",
        "  return print(np.array(a))\n",
        "\n",
        "# Letra a)\n",
        "vetor = np.array(range(-2,11))\n",
        "index = [0,2,3,4,5,7,8,10,12]\n",
        "funcaoNpArray(np.delete(vetor, index))\n",
        "\n",
        "# Letra b)\n",
        "funcaoNpArray(range(1,11))\n",
        "\n",
        "# Letra c)\n",
        "tupla = (10,11,12,13,14)\n",
        "funcaoNpArray(tupla)\n",
        "\n",
        "# Letra d)\n",
        "funcaoNpArray(range(1990,2021,5))\n",
        "\n",
        "# Letra e)\n",
        "funcaoNpArray(range(2020,1899,-10))\n",
        "\n",
        "# Letra f)\n",
        "funcaoNpArray(100)"
      ],
      "execution_count": null,
      "outputs": [
        {
          "output_type": "stream",
          "text": [
            "[-1  4  7  9]\n",
            "[ 1  2  3  4  5  6  7  8  9 10]\n",
            "[10 11 12 13 14]\n",
            "[1990 1995 2000 2005 2010 2015 2020]\n",
            "[2020 2010 2000 1990 1980 1970 1960 1950 1940 1930 1920 1910 1900]\n",
            "100\n"
          ],
          "name": "stdout"
        }
      ]
    },
    {
      "cell_type": "markdown",
      "metadata": {
        "id": "4Hl3yBvNJ0zX"
      },
      "source": [
        "# Exercício 4\n",
        "\n",
        "A função np.ones() permite criar um array preenchido com o número 1 em todas as suas entradas. Podemos especificar como argumentos o shape e o tipo de dado dtype do array. Use esta função para criar os arrays a seguir:\n",
        "\n",
        "```\n",
        "a) array([1., 1., 1., 1., 1., 1., 1., 1., 1., 1.])\n",
        "\n",
        "b) array([[1., 1., 1., 1.],\n",
        "           [1., 1., 1., 1.],\n",
        "           [1., 1., 1., 1.],\n",
        "           [1., 1., 1., 1.]])\n",
        "\n",
        "c) array([[1, 1],\n",
        "          [1, 1],\n",
        "          [1, 1]])\n",
        "```"
      ]
    },
    {
      "cell_type": "code",
      "metadata": {
        "colab": {
          "base_uri": "https://localhost:8080/"
        },
        "id": "a1Y9L4BaLOgg",
        "outputId": "64dda423-9bee-48d9-ad54-31ec003dd895"
      },
      "source": [
        "# Letra a)\n",
        "tenNumbersOne = np.ones(10)\n",
        "print(tenLines)\n",
        "\n",
        "# Letra b)\n",
        "matrix1 = np.ones(shape=(4,4))\n",
        "print(matrix1)\n",
        "\n",
        "# Letra c)\n",
        "matrix2 = np.ones(shape=(3,2), dtype=int)\n",
        "print(matrix2)"
      ],
      "execution_count": null,
      "outputs": [
        {
          "output_type": "stream",
          "text": [
            "[1. 1. 1. 1. 1. 1. 1. 1. 1. 1.]\n",
            "[[1. 1. 1. 1.]\n",
            " [1. 1. 1. 1.]\n",
            " [1. 1. 1. 1.]\n",
            " [1. 1. 1. 1.]]\n",
            "[[1 1]\n",
            " [1 1]\n",
            " [1 1]]\n"
          ],
          "name": "stdout"
        }
      ]
    },
    {
      "cell_type": "markdown",
      "metadata": {
        "id": "kiCoCbsSQtjH"
      },
      "source": [
        "# Exercício 5\n",
        "\n",
        "A função np.zeros() permite criar um array preenchido com o número 0 em todas as suas entradas. Podemos especificar como argumentos o shape e o tipo de dado dtype do array (default é o float). Use esta função para criar os arrays a seguir:\n",
        "\n",
        "```\n",
        "a) array([0., 0., 0., 0., 0., 0., 0., 0., 0., 0.])\n",
        "\n",
        "\n",
        "b) array([[0., 0.],\n",
        "         [0., 0.]])  \n",
        "       \n",
        "\n",
        "c) array([[0., 0., 0., 0., 0., 0.],\n",
        "         [0., 0., 0., 0., 0., 0.],\n",
        "         [0., 0., 0., 0., 0., 0.],\n",
        "         [0., 0., 0., 0., 0., 0.]])\n",
        "\n",
        "```"
      ]
    },
    {
      "cell_type": "code",
      "metadata": {
        "colab": {
          "base_uri": "https://localhost:8080/"
        },
        "id": "8SoVON8MRJzv",
        "outputId": "3ebdae20-9e72-49f3-af34-aa146ab3c4be"
      },
      "source": [
        "# Letra a)\n",
        "tenNumbersZero = np.zeros(10)\n",
        "print(tenNumbersZero)\n",
        "\n",
        "# Letra b)\n",
        "matrix1 = np.zeros(shape=(2,2))\n",
        "print(matrix1)\n",
        "\n",
        "# Letra c)\n",
        "matrix2 = np.zeros(shape=(4,6))\n",
        "print(matrix2)"
      ],
      "execution_count": null,
      "outputs": [
        {
          "output_type": "stream",
          "text": [
            "[0. 0. 0. 0. 0. 0. 0. 0. 0. 0.]\n",
            "[[0. 0.]\n",
            " [0. 0.]]\n",
            "[[0. 0. 0. 0. 0. 0.]\n",
            " [0. 0. 0. 0. 0. 0.]\n",
            " [0. 0. 0. 0. 0. 0.]\n",
            " [0. 0. 0. 0. 0. 0.]]\n"
          ],
          "name": "stdout"
        }
      ]
    },
    {
      "cell_type": "markdown",
      "metadata": {
        "id": "gp2WrXoFrkO3"
      },
      "source": [
        "# Exercício 6\n",
        "\n",
        "Crie os arrays a seguir:\n",
        "\n",
        "```\n",
        "a) array([[10],\n",
        "         [15],\n",
        "         [20],\n",
        "         [25],\n",
        "         [30],\n",
        "         [35],\n",
        "         [40],\n",
        "         [45]])\n",
        "\n",
        "b) array([-50, -45, -40, -35, -30, -25, -20, -15, -10,  -5])\n",
        "\n",
        "c) array([[ 50,  52,  54,  56,  58,  60,  62,  64,  66,  68],\n",
        "          [ 70,  72,  74,  76,  78,  80,  82,  84,  86,  88],\n",
        "          [ 90,  92,  94,  96,  98, 100, 102, 104, 106, 108],\n",
        "          [110, 112, 114, 116, 118, 120, 122, 124, 126, 128],\n",
        "          [130, 132, 134, 136, 138, 140, 142, 144, 146, 148]])\n",
        "       \n",
        "Dica: use np.arange() ou np.array(range()).\n",
        "```"
      ]
    },
    {
      "cell_type": "code",
      "metadata": {
        "colab": {
          "base_uri": "https://localhost:8080/"
        },
        "id": "web4fUnKsAKf",
        "outputId": "6dd52a68-e296-457d-a14d-a025314bdf8c"
      },
      "source": [
        "# Letra a)\n",
        "matrix1 = np.arange(10,46,5).reshape(-1,1)\n",
        "print(matrix1)\n",
        "\n",
        "# Letra b)\n",
        "matrix2 = np.arange(-50,-4, 5)\n",
        "print(matrix2)\n",
        "\n",
        "# Letra c)\n",
        "matrix3 = np.arange(50,150, 2).reshape(-1,10)\n",
        "print(matrix3)\n"
      ],
      "execution_count": null,
      "outputs": [
        {
          "output_type": "stream",
          "text": [
            "[[10]\n",
            " [15]\n",
            " [20]\n",
            " [25]\n",
            " [30]\n",
            " [35]\n",
            " [40]\n",
            " [45]]\n",
            "[-50 -45 -40 -35 -30 -25 -20 -15 -10  -5]\n",
            "[[ 50  52  54  56  58  60  62  64  66  68]\n",
            " [ 70  72  74  76  78  80  82  84  86  88]\n",
            " [ 90  92  94  96  98 100 102 104 106 108]\n",
            " [110 112 114 116 118 120 122 124 126 128]\n",
            " [130 132 134 136 138 140 142 144 146 148]]\n"
          ],
          "name": "stdout"
        }
      ]
    },
    {
      "cell_type": "markdown",
      "metadata": {
        "id": "jrJeK0fS0RYy"
      },
      "source": [
        "# Exercício 7\n",
        "\n",
        "Utilize a função np.full(shape, fill_value, dtype) para criar os arrays a seguir. Esta função permite criar um array com um shape e dtype definidos pelo usuário, preenchido com um determinado valor.\n",
        "\n",
        "```\n",
        "a) array([5., 5., 5., 5., 5., 5., 5., 5., 5., 5.])\n",
        "\n",
        "b) array([[-5., -5., -5., -5.],\n",
        "         [-5., -5., -5., -5.],\n",
        "         [-5., -5., -5., -5.],\n",
        "         [-5., -5., -5., -5.]])\n",
        "\n",
        "c) array([[3, 3, 3],\n",
        "         [3, 3, 3],\n",
        "         [3, 3, 3]])\n",
        "\n",
        "d) array([[50, 50, 50, 50, 50, 50, 50, 50, 50, 50],\n",
        "         [50, 50, 50, 50, 50, 50, 50, 50, 50, 50],\n",
        "         [50, 50, 50, 50, 50, 50, 50, 50, 50, 50],\n",
        "         [50, 50, 50, 50, 50, 50, 50, 50, 50, 50],\n",
        "         [50, 50, 50, 50, 50, 50, 50, 50, 50, 50],\n",
        "         [50, 50, 50, 50, 50, 50, 50, 50, 50, 50],\n",
        "         [50, 50, 50, 50, 50, 50, 50, 50, 50, 50],\n",
        "         [50, 50, 50, 50, 50, 50, 50, 50, 50, 50],\n",
        "         [50, 50, 50, 50, 50, 50, 50, 50, 50, 50],\n",
        "         [50, 50, 50, 50, 50, 50, 50, 50, 50, 50]])\n",
        "```\n",
        "\n",
        "Dica: outra possibilidade seria obter os arrays com uma operação diferente, a partir da multiplicação de uma matriz preenchida com número 1 por um determinado valor.\n"
      ]
    },
    {
      "cell_type": "code",
      "metadata": {
        "colab": {
          "base_uri": "https://localhost:8080/"
        },
        "id": "q1WK4fmi0pT5",
        "outputId": "e0f4bc67-033d-4f6d-f8fb-242dbfd8829d"
      },
      "source": [
        "# Letra a)\n",
        "matrix1 = np.full(shape=10,fill_value=5.0)\n",
        "print(matrix1)\n",
        "\n",
        "# Letra b)\n",
        "matrix2 = np.full(shape=(5,5),fill_value=-5.0)\n",
        "print(matrix2)\n",
        "\n",
        "# Letra c)\n",
        "matrix3 = np.full(shape=(10,10),fill_value=50)\n",
        "print(matrix3)"
      ],
      "execution_count": null,
      "outputs": [
        {
          "output_type": "stream",
          "text": [
            "[5. 5. 5. 5. 5. 5. 5. 5. 5. 5.]\n",
            "[[-5. -5. -5. -5. -5.]\n",
            " [-5. -5. -5. -5. -5.]\n",
            " [-5. -5. -5. -5. -5.]\n",
            " [-5. -5. -5. -5. -5.]\n",
            " [-5. -5. -5. -5. -5.]]\n",
            "[[50 50 50 50 50 50 50 50 50 50]\n",
            " [50 50 50 50 50 50 50 50 50 50]\n",
            " [50 50 50 50 50 50 50 50 50 50]\n",
            " [50 50 50 50 50 50 50 50 50 50]\n",
            " [50 50 50 50 50 50 50 50 50 50]\n",
            " [50 50 50 50 50 50 50 50 50 50]\n",
            " [50 50 50 50 50 50 50 50 50 50]\n",
            " [50 50 50 50 50 50 50 50 50 50]\n",
            " [50 50 50 50 50 50 50 50 50 50]\n",
            " [50 50 50 50 50 50 50 50 50 50]]\n"
          ],
          "name": "stdout"
        }
      ]
    },
    {
      "cell_type": "markdown",
      "metadata": {
        "id": "hcd8S87p5Qe9"
      },
      "source": [
        "# Exercício 8\n",
        "\n",
        "Defina o array K e verifique se há dados ausentes (missing data). Use a função np.isnan().\n",
        "```\n",
        "array([[ nan,   1.,  10.,   0.],\n",
        "       [ nan,  nan,  nan,  nan],\n",
        "       [100.,  50.,  nan, -25.],\n",
        "       [ 30.,  nan,  nan, 130.]])\n",
        "```"
      ]
    },
    {
      "cell_type": "code",
      "metadata": {
        "colab": {
          "base_uri": "https://localhost:8080/"
        },
        "id": "aNP1VeSk5pwB",
        "outputId": "7836f3e2-fc21-402a-8910-87142dbe1cfa"
      },
      "source": [
        "k = np.array([[ np.nan,   1.,  10.,   0.],\n",
        "           [ np.nan,  np.nan,  np.nan,  np.nan],\n",
        "           [100.,  50.,  np.nan, -25.],\n",
        "           [ 30.,  np.nan,  np.nan, 130.]])\n",
        "\n",
        "print(np.isnan(k))"
      ],
      "execution_count": null,
      "outputs": [
        {
          "output_type": "stream",
          "text": [
            "[[ True False False False]\n",
            " [ True  True  True  True]\n",
            " [False False  True False]\n",
            " [False  True  True False]]\n"
          ],
          "name": "stdout"
        }
      ]
    },
    {
      "cell_type": "markdown",
      "metadata": {
        "id": "zVSQ1ZwWS2cV"
      },
      "source": [
        "# Exercício 9\n",
        "\n",
        "A função np.linspace() retorna um array com números contendo espaçamento uniforme em um intervalo definido. Crie um array com números dentro do intervalo [1,21] em 5 partes.\n",
        "\n",
        "Retorno esperado:\n",
        "\n",
        "array([ 1.,  6., 11., 16., 21.])"
      ]
    },
    {
      "cell_type": "code",
      "metadata": {
        "colab": {
          "base_uri": "https://localhost:8080/"
        },
        "id": "9DAvo49qS9Mf",
        "outputId": "178bdde5-45a5-420e-aa87-411a61912b92"
      },
      "source": [
        "array = np.linspace(1,21,5)\n",
        "print(array)"
      ],
      "execution_count": null,
      "outputs": [
        {
          "output_type": "stream",
          "text": [
            "[ 1.  6. 11. 16. 21.]\n"
          ],
          "name": "stdout"
        }
      ]
    },
    {
      "cell_type": "markdown",
      "metadata": {
        "id": "llsWhqlkTbwY"
      },
      "source": [
        "# Exercício 10\n",
        "\n",
        "A função np.logspace() retorna números com espaçamento uniforme em uma escala logarítmica. Crie um array com números dentro do intervalo [1,51] em 10 partes com a função np.logspace().\n",
        "\n",
        "Retorno esperado:\n",
        "\n",
        "```\n",
        "array([[1.00000000e+01],\n",
        "       [3.59381366e+06],\n",
        "       [1.29154967e+12],\n",
        "       [4.64158883e+17],\n",
        "       [1.66810054e+23],\n",
        "       [5.99484250e+28],\n",
        "       [2.15443469e+34],\n",
        "       [7.74263683e+39],\n",
        "       [2.78255940e+45],\n",
        "       [1.00000000e+51]])\n",
        "```"
      ]
    },
    {
      "cell_type": "code",
      "metadata": {
        "colab": {
          "base_uri": "https://localhost:8080/"
        },
        "id": "As8_WTXHVWAk",
        "outputId": "327c356e-331b-4e74-90d0-6cad5bca9e9a"
      },
      "source": [
        "A = np.logspace(1,51,10).reshape(-1,1)\n",
        "print(A)"
      ],
      "execution_count": null,
      "outputs": [
        {
          "output_type": "stream",
          "text": [
            "[[1.00000000e+01]\n",
            " [3.59381366e+06]\n",
            " [1.29154967e+12]\n",
            " [4.64158883e+17]\n",
            " [1.66810054e+23]\n",
            " [5.99484250e+28]\n",
            " [2.15443469e+34]\n",
            " [7.74263683e+39]\n",
            " [2.78255940e+45]\n",
            " [1.00000000e+51]]\n"
          ],
          "name": "stdout"
        }
      ]
    },
    {
      "cell_type": "markdown",
      "metadata": {
        "id": "JjKWdhuXiAzF"
      },
      "source": [
        "# Exercício 11\n",
        "\n",
        "Use a função np.diag() para construir o array a seguir:\n",
        "\n",
        "```\n",
        "array([[ 5,  0,  0,  0,  0,  0],\n",
        "       [ 0, 10,  0,  0,  0,  0],\n",
        "       [ 0,  0, 15,  0,  0,  0],\n",
        "       [ 0,  0,  0, 20,  0,  0],\n",
        "       [ 0,  0,  0,  0, 25,  0],\n",
        "       [ 0,  0,  0,  0,  0, 30]])\n",
        "```"
      ]
    },
    {
      "cell_type": "code",
      "metadata": {
        "colab": {
          "base_uri": "https://localhost:8080/"
        },
        "id": "BjT_heWIiJlw",
        "outputId": "db4cf7a1-f668-488f-df8c-040d82f31d23"
      },
      "source": [
        "matrix = np.diag(np.arange(5,31,5))\n",
        "print(matrix)"
      ],
      "execution_count": null,
      "outputs": [
        {
          "output_type": "stream",
          "text": [
            "[[ 5  0  0  0  0  0]\n",
            " [ 0 10  0  0  0  0]\n",
            " [ 0  0 15  0  0  0]\n",
            " [ 0  0  0 20  0  0]\n",
            " [ 0  0  0  0 25  0]\n",
            " [ 0  0  0  0  0 30]]\n"
          ],
          "name": "stdout"
        }
      ]
    },
    {
      "cell_type": "markdown",
      "metadata": {
        "id": "EgoAAtIWjQG5"
      },
      "source": [
        "# Exercício 12\n",
        "\n",
        "Use a função np.eye() (ou ainda np.identity()) para obter o array seguir.\n",
        "\n",
        "```\n",
        "array([[1., 0., 0., 0., 0., 0., 0., 0., 0., 0.],\n",
        "       [0., 1., 0., 0., 0., 0., 0., 0., 0., 0.],\n",
        "       [0., 0., 1., 0., 0., 0., 0., 0., 0., 0.],\n",
        "       [0., 0., 0., 1., 0., 0., 0., 0., 0., 0.],\n",
        "       [0., 0., 0., 0., 1., 0., 0., 0., 0., 0.],\n",
        "       [0., 0., 0., 0., 0., 1., 0., 0., 0., 0.],\n",
        "       [0., 0., 0., 0., 0., 0., 1., 0., 0., 0.],\n",
        "       [0., 0., 0., 0., 0., 0., 0., 1., 0., 0.],\n",
        "       [0., 0., 0., 0., 0., 0., 0., 0., 1., 0.],\n",
        "       [0., 0., 0., 0., 0., 0., 0., 0., 0., 1.]])\n",
        "```\n",
        "\n",
        "Dica: essa matriz é definida como matriz identidade, neste caso de ordem 10, e assume grande relevância em diversos cálculos computacionais, como veremos mais adiante."
      ]
    },
    {
      "cell_type": "code",
      "metadata": {
        "colab": {
          "base_uri": "https://localhost:8080/"
        },
        "id": "8hVaAhzBjYFV",
        "outputId": "846acd60-dea1-4cb0-c3c9-c56d085e3c83"
      },
      "source": [
        "matrix = np.eye(10)\n",
        "print(matrix)"
      ],
      "execution_count": null,
      "outputs": [
        {
          "output_type": "stream",
          "text": [
            "[[1. 0. 0. 0. 0. 0. 0. 0. 0. 0.]\n",
            " [0. 1. 0. 0. 0. 0. 0. 0. 0. 0.]\n",
            " [0. 0. 1. 0. 0. 0. 0. 0. 0. 0.]\n",
            " [0. 0. 0. 1. 0. 0. 0. 0. 0. 0.]\n",
            " [0. 0. 0. 0. 1. 0. 0. 0. 0. 0.]\n",
            " [0. 0. 0. 0. 0. 1. 0. 0. 0. 0.]\n",
            " [0. 0. 0. 0. 0. 0. 1. 0. 0. 0.]\n",
            " [0. 0. 0. 0. 0. 0. 0. 1. 0. 0.]\n",
            " [0. 0. 0. 0. 0. 0. 0. 0. 1. 0.]\n",
            " [0. 0. 0. 0. 0. 0. 0. 0. 0. 1.]]\n"
          ],
          "name": "stdout"
        }
      ]
    },
    {
      "cell_type": "markdown",
      "metadata": {
        "id": "oEKTg1MUj_gn"
      },
      "source": [
        "# Exercício 14\n",
        "\n",
        "Obtenha a soma dos elementos de cada array a seguir. Use a função np.sum(). Implemente uma solução com loop for, para tanto armazene os vetores em uma lista.\n",
        "\n",
        "```\n",
        "import numpy as np\n",
        "array1 = np.arange(1,11)\n",
        "array2 = np.linspace(1,50,10)\n",
        "array3 = np.array(range(51))\n",
        "array4 = np.logspace(1,10,5)\n",
        "array5 = np.diag(range(5,31,5))\n",
        "\n",
        "Retorno esperado:\n",
        "\n",
        "Soma dos elementos do array 1:  55\n",
        "Soma dos elementos do array 2:  255.0\n",
        "Soma dos elementos do array 3:  1275\n",
        "Soma dos elementos do array 4:  10056552148.564463\n",
        "Soma dos elementos do array 5:  105\n",
        "\n",
        "```"
      ]
    },
    {
      "cell_type": "code",
      "metadata": {
        "colab": {
          "base_uri": "https://localhost:8080/"
        },
        "id": "xLN6OB80n6vh",
        "outputId": "c217fb59-a8ef-4edd-9329-4fa4b493335a"
      },
      "source": [
        "# Sem o loop for\n",
        "array1 = np.arange(1,11)\n",
        "array2 = np.linspace(1,50,10)\n",
        "array3 = np.array(range(51))\n",
        "array4 = np.logspace(1,10,5)\n",
        "array5 = np.diag(range(5,31,5))\n",
        "\n",
        "def soma(array,num):\n",
        "  total = np.sum(array)\n",
        "  print(f'Soma dos elementos do array {num}: {total}')\n",
        "\n",
        "soma(array1,1)\n",
        "soma(array2,2)\n",
        "soma(array3,3)\n",
        "soma(array4,4)\n",
        "soma(array5,5)\n",
        "\n",
        " \n"
      ],
      "execution_count": null,
      "outputs": [
        {
          "output_type": "stream",
          "text": [
            "Soma dos elementos do array 1: 55\n",
            "Soma dos elementos do array 2: 255.0\n",
            "Soma dos elementos do array 3: 1275\n",
            "Soma dos elementos do array 4: 10056552148.564463\n",
            "Soma dos elementos do array 5: 105\n"
          ],
          "name": "stdout"
        }
      ]
    },
    {
      "cell_type": "code",
      "metadata": {
        "colab": {
          "base_uri": "https://localhost:8080/"
        },
        "id": "U8ytPwcwr4UJ",
        "outputId": "8602e2e3-106b-4f76-d252-1c00a89e14bd"
      },
      "source": [
        "# Com o loop for\n",
        "array1 = np.arange(1, 11)\n",
        "array2 = np.linspace(1, 50, 10)\n",
        "array3 = np.array(range(51))\n",
        "array4 = np.logspace(1, 10, 5)\n",
        "array5 = np.diag(range(5, 31, 5))\n",
        "\n",
        "arrays = [array1, array2, array3, array4, array5]\n",
        "for index, array in enumerate(arrays, start=1):\n",
        "    print(f'Soma dos elementos do array {index}: ', array.sum())"
      ],
      "execution_count": null,
      "outputs": [
        {
          "output_type": "stream",
          "text": [
            "Soma dos elementos do array 1:  55\n",
            "Soma dos elementos do array 2:  255.0\n",
            "Soma dos elementos do array 3:  1275\n",
            "Soma dos elementos do array 4:  10056552148.564463\n",
            "Soma dos elementos do array 5:  105\n"
          ],
          "name": "stdout"
        }
      ]
    },
    {
      "cell_type": "markdown",
      "metadata": {
        "id": "5zQpHIaqsO0M"
      },
      "source": [
        "# Exercício 15\n",
        "\n",
        "A partir da matriz definida abaixo obtenha: \n",
        "\n",
        "a) soma total dos elementos; \n",
        "\n",
        "b) soma das linhas ; \n",
        "\n",
        "c) soma das colunas.\n",
        "\n",
        "```\n",
        "import numpy as np\n",
        "matriz = np.array(np.random.randint(1,100,15)).reshape(5,3)\n",
        "```"
      ]
    },
    {
      "cell_type": "code",
      "metadata": {
        "colab": {
          "base_uri": "https://localhost:8080/"
        },
        "id": "uUppdnlGvvJ3",
        "outputId": "bf09a3cf-b177-40b9-a81e-79edb61be190"
      },
      "source": [
        "np.random.seed(1)\n",
        "matriz = np.array(np.random.randint(1,100,15)).reshape(5,3)\n",
        "\n",
        "# Letra a)\n",
        "print('Soma total dos elementos: ', matriz.sum())\n",
        "\n",
        "# Letra b)\n",
        "print('Soma das linhas: ', matriz.sum(axis = 1))\n",
        "\n",
        "# Letra c)\n",
        "print('Soma das colunas: ', matriz.sum(axis = 0))\n"
      ],
      "execution_count": null,
      "outputs": [
        {
          "output_type": "stream",
          "text": [
            "Soma total dos elementos:  613\n",
            "Soma das linhas:  [124  92 162 151  84]\n",
            "Soma das colunas:  [137 257 219]\n"
          ],
          "name": "stdout"
        }
      ]
    },
    {
      "cell_type": "markdown",
      "metadata": {
        "id": "JFy-O2Y6Rqcs"
      },
      "source": [
        "# Exercício 16\n",
        "\n",
        "Obtenha o valor máximo e o valor mínimo de cada array abaixo. Implemente uma solução com loop for.\n",
        "\n",
        "```\n",
        "import numpy as np\n",
        "array1 = np.array([-1, 10, 3, 4, 7, 27])\n",
        "array2 = np.random.randint(-100,300,30)\n",
        "array3 = np.random.randn(10)\n",
        "array4 = np.array(range(50,10,-2))\n",
        "\n",
        "\n",
        "Dica: para obter o valor máximo e mínimo de um array podemos usar array.max() e array.min() ( ou ainda max(array) e min(array)).\n",
        "```"
      ]
    },
    {
      "cell_type": "code",
      "metadata": {
        "colab": {
          "base_uri": "https://localhost:8080/"
        },
        "id": "SV0D4CdoePto",
        "outputId": "9aed7cfb-3c2f-4ae0-8642-8d2e6e130877"
      },
      "source": [
        "array1 = np.array([-1, 10, 3, 4, 7, 27])\n",
        "array2 = np.random.randint(-100,300,30)\n",
        "array3 = np.random.randn(10)\n",
        "array4 = np.array(range(50,10,-2))\n",
        "\n",
        "arrays = [array1,array2,array3,array4]\n",
        "\n",
        "for index,array in enumerate(arrays, start=1):\n",
        "    print(f'Array {index}')\n",
        "    print(f'Valor máximo: ', array.max())\n",
        "    print(f'Valor mínimo: ', array.min())\n",
        "    print()"
      ],
      "execution_count": null,
      "outputs": [
        {
          "output_type": "stream",
          "text": [
            "Array 1\n",
            "Valor máximo:  27\n",
            "Valor mínimo:  -1\n",
            "\n",
            "Array 2\n",
            "Valor máximo:  280\n",
            "Valor mínimo:  -88\n",
            "\n",
            "Array 3\n",
            "Valor máximo:  1.0188743111221994\n",
            "Valor mínimo:  -1.7841494619227805\n",
            "\n",
            "Array 4\n",
            "Valor máximo:  50\n",
            "Valor mínimo:  12\n",
            "\n"
          ],
          "name": "stdout"
        }
      ]
    },
    {
      "cell_type": "markdown",
      "metadata": {
        "id": "ACRqjd2Bfzyu"
      },
      "source": [
        "# Exercício 17\n",
        "\n",
        "Crie uma função que receba uma matriz como entrada e calcule:\n",
        "\n",
        "    a) Valor máximo da matriz;\n",
        "\n",
        "    b) Valor máximo por coluna;\n",
        "\n",
        "    c) Valor máximo por linha;\n",
        "\n",
        "    d) Valor mínimo da matriz;\n",
        "\n",
        "    e) Valor mínimo por coluna;\n",
        "\n",
        "    f) Valor mínimo por linha.\n",
        "\n",
        "\n",
        "Exemplo de retorno para a matriz definida abaixo:\n",
        "\n",
        "```   \n",
        "Input:\n",
        "\n",
        "matriz = np.random.randint(-1000,1000,50).reshape(10,5)\n",
        "info_matriz(matriz)\n",
        "\n",
        "Output:\n",
        "\n",
        "Valor máximo da matriz:  987\n",
        "Valor máximo por coluna:  [959 987 597 748 719]\n",
        "Valor máximo por linha:  [ 987  312  982  204  719  689  101  793 -460  959]\n",
        "Valor mínimo da matriz:  -969\n",
        "Valor mínimo por coluna:  [-878 -966 -969 -884 -881]\n",
        "Valor mínimo por linha:  [  30 -878 -335 -863  -40 -289 -660 -239 -969 -966]\n",
        "```\n"
      ]
    },
    {
      "cell_type": "code",
      "metadata": {
        "colab": {
          "base_uri": "https://localhost:8080/"
        },
        "id": "55L7BYX3gjym",
        "outputId": "1f929327-b766-47f0-e347-66dc04520e58"
      },
      "source": [
        "# Sem a condicional if \n",
        "\n",
        "np.random.seed(2)\n",
        "matriz = np.random.randint(-1000,1000,50).reshape(10,5)\n",
        "\n",
        "def info_matriz(matriz):\n",
        "  a = matriz.max() # Letra a)\n",
        "  b = matriz.max(axis=0) # Letra b)\n",
        "  c = matriz.max(axis=1) # Letra c)\n",
        "  d = matriz.min() # Letra d)\n",
        "  e = matriz.min(axis=0) # Letra e)\n",
        "  f = matriz.min(axis=1) # Letra f)\n",
        "  resultados = []\n",
        "  resultados.extend([a,b,c,d,e,f])\n",
        "  return print(f'Valor máximo da matriz: {resultados[0]} \\n Valor máximo por coluna: {resultados[1]} \\n Valor máximo por linha: {resultados[2]} \\n Valor mínimo da matriz: {resultados[3]} \\n Valor mínimo por coluna: {resultados[4]} \\n Valor mínimo por linha: {resultados[5]}')\n",
        "\n",
        "info_matriz(matriz)"
      ],
      "execution_count": null,
      "outputs": [
        {
          "output_type": "stream",
          "text": [
            "Valor máximo da matriz: 732 \n",
            " Valor máximo por coluna: [326 652 616 608 732] \n",
            " Valor máximo por linha: [ 608  287 -275  311  652  126  594  732  478  616] \n",
            " Valor mínimo da matriz: -969 \n",
            " Valor mínimo por coluna: [-969 -567 -507 -640 -949] \n",
            " Valor mínimo por linha: [-507 -701 -567 -596 -876 -949 -641 -745 -879 -969]\n"
          ],
          "name": "stdout"
        }
      ]
    },
    {
      "cell_type": "code",
      "metadata": {
        "colab": {
          "base_uri": "https://localhost:8080/"
        },
        "id": "TWD4cBQ6uY0_",
        "outputId": "9f7d84b7-1851-4abb-9cf2-7fd2be894eba"
      },
      "source": [
        "# Com a condicional if\n",
        "\n",
        "np.random.seed(2)\n",
        "def info_matrix(matrix):\n",
        "    \n",
        "    if isinstance(matrix,np.ndarray) and matrix.ndim == 2:\n",
        "        print(f'Valor máximo da matriz: ', matrix.max())\n",
        "        print(f'Valor máximo por coluna: ', matrix.max(axis = 0))\n",
        "        print(f'Valor máximo por linha: ', matrix.max(axis = 1))\n",
        "        print(f'Valor mínimo da matriz: ', matrix.min())\n",
        "        print(f'Valor mínimo por coluna: ', matrix.min(axis = 0))\n",
        "        print(f'Valor mínimo por linha: ', matrix.min(axis =1))\n",
        "    else:\n",
        "        return None\n",
        "    \n",
        "if __name__=='__main__':\n",
        "    matrix = np.random.randint(-1000,1000,50).reshape(10,5)\n",
        "    info_matrix(matrix)\n"
      ],
      "execution_count": null,
      "outputs": [
        {
          "output_type": "stream",
          "text": [
            "Valor máximo da matriz:  732\n",
            "Valor máximo por coluna:  [326 652 616 608 732]\n",
            "Valor máximo por linha:  [ 608  287 -275  311  652  126  594  732  478  616]\n",
            "Valor mínimo da matriz:  -969\n",
            "Valor mínimo por coluna:  [-969 -567 -507 -640 -949]\n",
            "Valor mínimo por linha:  [-507 -701 -567 -596 -876 -949 -641 -745 -879 -969]\n"
          ],
          "name": "stdout"
        }
      ]
    },
    {
      "cell_type": "markdown",
      "metadata": {
        "id": "Tmz5hOq2uqHF"
      },
      "source": [
        "# Exercício 18\n",
        "\n",
        "Com base no array definido abaixo obtenha sua média, mediana, variância e desvio padrão.\n",
        "\n",
        "```\n",
        "import numpy as np\n",
        "arr = np.random.normal(40,0.5,size = (300))\n",
        "```\n",
        "\n",
        "Dica:\n",
        "\n",
        "Média: np.mean();\n",
        "\n",
        "Mediana: np.median();\n",
        "\n",
        "Desvio padrão: np.std();\n",
        "\n",
        "Variância: np.var()."
      ]
    },
    {
      "cell_type": "code",
      "metadata": {
        "colab": {
          "base_uri": "https://localhost:8080/"
        },
        "id": "qNgzeAaHuvvO",
        "outputId": "bcde2655-51f9-4665-f44f-209f6d9876ce"
      },
      "source": [
        "np.random.seed(1)\n",
        "arr = np.random.normal(40,0.5,size = (300))\n",
        "print(f'Média: {np.mean(arr)}')\n",
        "print(f'Mediana: {np.median(arr)}')\n",
        "print(f'Desvio Padrão: {np.std(arr)}')\n",
        "print(f'Variância: {np.var(arr)}')"
      ],
      "execution_count": null,
      "outputs": [
        {
          "output_type": "stream",
          "text": [
            "Média: 40.03719992074308\n",
            "Mediana: 40.044088047041136\n",
            "Desvio Padrão: 0.47192162527153914\n",
            "Variância: 0.222710020398931\n"
          ],
          "name": "stdout"
        }
      ]
    },
    {
      "cell_type": "markdown",
      "metadata": {
        "id": "NJU2jklYwE0u"
      },
      "source": [
        "# Exercício 19\n",
        "\n",
        "Com base nos arrays definidos a seguir obtenha a matriz de covariância e a matriz de correlação.\n",
        "\n",
        "```\n",
        "import numpy as np\n",
        "x = np.random.rand(100)\n",
        "y = np.random.uniform(size=100)\n",
        "```\n",
        "\n",
        "Dica: use np.corrcoef() e np.cov()."
      ]
    },
    {
      "cell_type": "code",
      "metadata": {
        "colab": {
          "base_uri": "https://localhost:8080/"
        },
        "id": "vu_etXF5wRR2",
        "outputId": "dd754b86-5556-4a09-ee70-e81fd3e1779f"
      },
      "source": [
        "x = np.random.rand(100)\n",
        "y = np.random.uniform(size=100)\n",
        "\n",
        "print(f'Matriz de covariância do array x: {np.corrcoef(x)}')\n",
        "print(f'Matriz de correlação do array x: {np.cov(x)}')\n",
        "print()\n",
        "print(f'Matriz de covariância do array y: {np.corrcoef(y)}')\n",
        "print(f'Matriz de correlação do array y: {np.cov(y)}')"
      ],
      "execution_count": null,
      "outputs": [
        {
          "output_type": "stream",
          "text": [
            "Matriz de covariância do array x: 1.0\n",
            "Matriz de correlação do array x: 0.08550649047080368\n",
            "\n",
            "Matriz de covariância do array y: 1.0\n",
            "Matriz de correlação do array y: 0.07475780727963469\n"
          ],
          "name": "stdout"
        }
      ]
    },
    {
      "cell_type": "markdown",
      "metadata": {
        "id": "oZTqiGStxNJK"
      },
      "source": [
        "# Exercício 20\n",
        "\n",
        "Obtenha o índice do valor máximo do array A.\n",
        "\n",
        "```\n",
        "A = np.array([[11, 15, 33, 105],\n",
        "              [1, 140, 45, 90],\n",
        "              [67, 230, 78, 99]])\n",
        "```\n",
        "\n",
        "Dica: use np.argmax() ou array.argmax()."
      ]
    },
    {
      "cell_type": "code",
      "metadata": {
        "colab": {
          "base_uri": "https://localhost:8080/"
        },
        "id": "gBCN0KpwxQ-n",
        "outputId": "7626041a-05cb-4f03-c987-21945f1be577"
      },
      "source": [
        "A = np.array([[11, 15, 33, 105],\n",
        "              [1, 140, 45, 90],\n",
        "              [67, 230, 78, 99]])\n",
        "\n",
        "print(f'O número do índice que tem o valor máximo do array A é: {np.argmax(A)}')"
      ],
      "execution_count": null,
      "outputs": [
        {
          "output_type": "stream",
          "text": [
            "O número do índice que tem o valor máximo do array A é: 9\n"
          ],
          "name": "stdout"
        }
      ]
    },
    {
      "cell_type": "markdown",
      "metadata": {
        "id": "PVSk2_Ju1b8p"
      },
      "source": [
        "# Exercício 21\n",
        "\n",
        "Obtenha o índice do valor mínimo do array B.\n",
        "\n",
        "```\n",
        "B = np.array([\n",
        "    [73, 22, 20, 62,  3],\n",
        "    [68, 84, 27, 59, 93],\n",
        "    [48, 52,  4, 55, 50],\n",
        "    [42, 23, 63, 67,  4],\n",
        "    [44, 30, 41, 31, 29]])\n",
        "```\n",
        "\n",
        "Dica: use np.argmin() ou array.argmin()."
      ]
    },
    {
      "cell_type": "code",
      "metadata": {
        "colab": {
          "base_uri": "https://localhost:8080/"
        },
        "id": "W3_AA-pG1g-3",
        "outputId": "7e724f2f-18d1-4bc4-b7a7-e8988ddaf462"
      },
      "source": [
        "B = np.array([\n",
        "    [73, 22, 20, 62,  3],\n",
        "    [68, 84, 27, 59, 93],\n",
        "    [48, 52,  4, 55, 50],\n",
        "    [42, 23, 63, 67,  4],\n",
        "    [44, 30, 41, 31, 29]])\n",
        "\n",
        "print(f'O número do índice que tem o valor máximo do array B é: {np.argmax(B)}')"
      ],
      "execution_count": null,
      "outputs": [
        {
          "output_type": "stream",
          "text": [
            "O número do índice que tem o valor máximo do array B é: 9\n"
          ],
          "name": "stdout"
        }
      ]
    },
    {
      "cell_type": "markdown",
      "metadata": {
        "id": "WAUXcvx71ygF"
      },
      "source": [
        "# Exercício 22\n",
        "\n",
        "Escreva uma função que receba um array NumPy e mostre na tela um conjunto de  estatísticas descritivas deste objeto.\n",
        "\n",
        "Resultado esperado:\n",
        "\n",
        "``` \n",
        "Input\n",
        "\n",
        "array = np.array([-57, 101, 270, 130, 144])\n",
        "info_array(array)\n",
        "\n",
        "\n",
        "Output:\n",
        "\n",
        "Valor máximo: 270\n",
        "Valor mínimo: -57\n",
        "Média: 117.6\n",
        "Mediana: 130.0\n",
        "Variância: 10967.439999999999\n",
        "Desvio padrão: 104.72554607162475\n",
        "```\n"
      ]
    },
    {
      "cell_type": "code",
      "metadata": {
        "colab": {
          "base_uri": "https://localhost:8080/"
        },
        "id": "SqRd5m0J2zah",
        "outputId": "9ec83cde-70b6-45f4-e691-3a87d28f9a83"
      },
      "source": [
        "array = np.array([-57, 101, 270, 130, 144])\n",
        "\n",
        "def info_array(array):\n",
        "  if isinstance(array,np.ndarray):\n",
        "    print(f'Valor máximo: {np.max(array)}')\n",
        "    print(f'Valor mínimo: {np.min(array)}')\n",
        "    print(f'Média: {np.mean(array)}')\n",
        "    print(f'Mediana: {np.median(array)}')\n",
        "    print(f'Variância: {np.var(array)}')\n",
        "    print(f'Desvio padrão: {np.std(array)}')\n",
        "  else:\n",
        "    return None\n",
        "\n",
        "info_array(array)\n"
      ],
      "execution_count": null,
      "outputs": [
        {
          "output_type": "stream",
          "text": [
            "Valor máximo: 270\n",
            "Valor mínimo: -57\n",
            "Média: 117.6\n",
            "Mediana: 130.0\n",
            "Variância: 10967.439999999999\n",
            "Desvio padrão: 104.72554607162475\n"
          ],
          "name": "stdout"
        }
      ]
    },
    {
      "cell_type": "markdown",
      "metadata": {
        "id": "JR3toSmq4qTH"
      },
      "source": [
        "# Exercício 23\n",
        "\n",
        "Use a função np.unique() para obter um array com os elementos únicos do array abaixo. Para tanto, armazene o novo array em uma variável.\n",
        "\n",
        "```\n",
        "A = np.array([\n",
        "    [1, 3, 3, 4, 5],\n",
        "    [4, 7, 11, 3, 5],\n",
        "    [1, 11, 4, 4, 11]])\n",
        "```"
      ]
    },
    {
      "cell_type": "code",
      "metadata": {
        "colab": {
          "base_uri": "https://localhost:8080/"
        },
        "id": "38kXNNO94xo-",
        "outputId": "fd33f809-eb35-42e7-acee-0d1592173f37"
      },
      "source": [
        "A = np.array([\n",
        "    [1, 3, 3, 4, 5],\n",
        "    [4, 7, 11, 3, 5],\n",
        "    [1, 11, 4, 4, 11]])\n",
        "\n",
        "B = np.unique(A)\n",
        "print(B)"
      ],
      "execution_count": null,
      "outputs": [
        {
          "output_type": "stream",
          "text": [
            "[ 1  3  4  5  7 11]\n"
          ],
          "name": "stdout"
        }
      ]
    },
    {
      "cell_type": "markdown",
      "metadata": {
        "id": "yR-NAZUG5CI1"
      },
      "source": [
        "# Exercício 24\n",
        "\n",
        "Indexação de arrays 1-D\n",
        "\n",
        "Considerando os arrays abaixo:\n",
        "\n",
        "```\n",
        "import numpy as np\n",
        "array1 = np.array([10, 20, 30, 40])\n",
        "array2 = np.array([100, 30, 5, 1, 40, 100, 20, 130, 155,170])\n",
        "```\n",
        "\n",
        "Obtenha:\n",
        "\n",
        "a) o primeiro, o terceiro e o último elemento de cada array;\n",
        "\n",
        "b) inverta o array;\n",
        "\n",
        "c) pegue o número 20 em ambos os arrays e armazene a soma em uma variável."
      ]
    },
    {
      "cell_type": "code",
      "metadata": {
        "colab": {
          "base_uri": "https://localhost:8080/"
        },
        "id": "6Fl9LyJE5HMV",
        "outputId": "978fe5a0-fd38-4688-81b2-4b164fa4cca1"
      },
      "source": [
        "# Sem a estrutura de repetição for\n",
        "\n",
        "array1 = np.array([10, 20, 30, 40])\n",
        "array2 = np.array([100, 30, 5, 1, 40, 100, 20, 130, 155,170])\n",
        "\n",
        "# Letra a)\n",
        "print('Array 1:')\n",
        "print(f'Primeiro elemento: {array1[0]}')\n",
        "print(f'Segundo elemento: {array1[2]}')\n",
        "print(f'Último elemento: {array1[-1]}')\n",
        "print()\n",
        "print('Array 2:')\n",
        "print(f'Primeiro elemento: {array2[0]}')\n",
        "print(f'Segundo elemento: {array2[2]}')\n",
        "print(f'Último elemento: {array2[-1]}')\n",
        "\n",
        "print()\n",
        "\n",
        "# Letra b)\n",
        "print('Array 1:')\n",
        "print(array1[::-1])\n",
        "print()\n",
        "print('Array 2:')\n",
        "print(array2[::-1])\n",
        "\n",
        "print()\n",
        "\n",
        "# Letra c)\n",
        "\n",
        "sum = array1[1]+array2[6]\n",
        "print(sum)"
      ],
      "execution_count": null,
      "outputs": [
        {
          "output_type": "stream",
          "text": [
            "Array 1:\n",
            "Primeiro elemento: 10\n",
            "Segundo elemento: 30\n",
            "Último elemento: 40\n",
            "\n",
            "Array 2:\n",
            "Primeiro elemento: 100\n",
            "Segundo elemento: 5\n",
            "Último elemento: 170\n",
            "\n",
            "Array 1:\n",
            "[40 30 20 10]\n",
            "\n",
            "Array 2:\n",
            "[170 155 130  20 100  40   1   5  30 100]\n",
            "\n",
            "40\n"
          ],
          "name": "stdout"
        }
      ]
    },
    {
      "cell_type": "code",
      "metadata": {
        "colab": {
          "base_uri": "https://localhost:8080/"
        },
        "id": "HujsOv5ETe7i",
        "outputId": "e397266a-17b8-46eb-c056-70a71477ff5b"
      },
      "source": [
        "# Com a estrutura de repetição for\n",
        "\n",
        "array1 = np.array([10, 20, 30, 40])\n",
        "array2 = np.array([100, 30, 5, 1, 40, 100, 20, 130, 155,170])\n",
        "arrays = [array1,array2]\n",
        "\n",
        "for index,array in enumerate(arrays,start=1):\n",
        "  print(f'{index}º array')\n",
        "  print(f'Primeiro elemento: {array[0]}')\n",
        "  print(f'Terceiro elemento: {array[2]}')\n",
        "  print(f'Último elemento: {array[-1]}')\n",
        "  print(f'Inversão: {array[::-1]}')\n",
        "  print()\n",
        "\n",
        "sum = array1[1]+array2[6]\n",
        "print(sum)\n"
      ],
      "execution_count": null,
      "outputs": [
        {
          "output_type": "stream",
          "text": [
            "1º array\n",
            "Primeiro elemento: 10\n",
            "Terceiro elemento: 30\n",
            "Último elemento: 40\n",
            "Inversão: [40 30 20 10]\n",
            "\n",
            "2º array\n",
            "Primeiro elemento: 100\n",
            "Terceiro elemento: 5\n",
            "Último elemento: 170\n",
            "Inversão: [170 155 130  20 100  40   1   5  30 100]\n",
            "\n",
            "40\n"
          ],
          "name": "stdout"
        }
      ]
    },
    {
      "cell_type": "markdown",
      "metadata": {
        "id": "eu5XjtxgVt81"
      },
      "source": [
        "# Exercício 25\n",
        "\n",
        "Indexação de arrays 2-D\n",
        "\n",
        "Acesse os números 9 e 90 do array abaixo.\n",
        "\n",
        "```\n",
        "import numpy as np\n",
        "ar = np.array([[-1, 33, 44, 9, 1],[11, 1, 0, 90, 44]])\n",
        "```"
      ]
    },
    {
      "cell_type": "code",
      "metadata": {
        "colab": {
          "base_uri": "https://localhost:8080/"
        },
        "id": "d4eJwBx7V2Sn",
        "outputId": "7da155eb-de95-4f45-a236-8a11c567f442"
      },
      "source": [
        "ar = np.array([[-1, 33, 44, 9, 1],[11, 1, 0, 90, 44]])\n",
        "print(ar[0,-2])\n",
        "print(ar[1,-2])"
      ],
      "execution_count": null,
      "outputs": [
        {
          "output_type": "stream",
          "text": [
            "9\n",
            "90\n"
          ],
          "name": "stdout"
        }
      ]
    },
    {
      "cell_type": "markdown",
      "metadata": {
        "id": "PP0uWI_wdtED"
      },
      "source": [
        "# Exercício 2\n",
        "\n",
        "Indexação de arrays 3-D\n",
        "\n",
        "Acesse os números 5, 9, 3 e 21 do array abaixo.\n",
        "\n",
        "```\n",
        "import numpy as np\n",
        "ar = np.array([\n",
        "    [[1, 1, 5, 1],\n",
        "     [1, 1, 1, 9]],\n",
        "    [[1, 3, 1, 1],\n",
        "     [1, 1, 21, 1]]])\n",
        "```"
      ]
    },
    {
      "cell_type": "code",
      "metadata": {
        "colab": {
          "base_uri": "https://localhost:8080/"
        },
        "id": "Mmx_lXxmd4hm",
        "outputId": "14e014c9-ac4c-4b22-d18b-067e082d487c"
      },
      "source": [
        "ar = np.array([\n",
        "    [[1, 1, 5, 1],\n",
        "     [1, 1, 1, 9]],\n",
        "    [[1, 3, 1, 1],\n",
        "     [1, 1, 21, 1]]])\n",
        "\n",
        "print(ar[0,0,2])\n",
        "print(ar[0,1,3])\n",
        "print(ar[1,0,1])\n",
        "print(ar[1,1,2])"
      ],
      "execution_count": null,
      "outputs": [
        {
          "output_type": "stream",
          "text": [
            "5\n",
            "9\n",
            "3\n",
            "21\n"
          ],
          "name": "stdout"
        }
      ]
    },
    {
      "cell_type": "markdown",
      "metadata": {
        "id": "srVaONZ_eYr7"
      },
      "source": [
        "# Exercício 27\n",
        "\n",
        "Slicing 1-D\n",
        "\n",
        "Com base no array abaixo obtenha o slice do índice 2 até o índice 6.\n",
        "\n",
        "```\n",
        "import numpy as np\n",
        "ar = np.array([1, 2, 3, 4, 5, 6, 7, 8, 9, 10])\n",
        "```\n",
        "\n",
        "Dica: Em Python, slicing significa que podemos selecionar elementos entre índices especificados. Sintaxe: [start:end:pass].\n",
        "\n",
        "Se não especificarmos o start o valor default será 0. Se não definirmos o step, será considerado o valor 1."
      ]
    },
    {
      "cell_type": "code",
      "metadata": {
        "colab": {
          "base_uri": "https://localhost:8080/"
        },
        "id": "z4tQ6TFqekp0",
        "outputId": "0d311032-846a-4d2e-f790-6b2ae2d05a58"
      },
      "source": [
        "ar = np.array([1, 2, 3, 4, 5, 6, 7, 8, 9, 10])\n",
        "ar[2:7]"
      ],
      "execution_count": null,
      "outputs": [
        {
          "output_type": "execute_result",
          "data": {
            "text/plain": [
              "array([3, 4, 5, 6, 7])"
            ]
          },
          "metadata": {
            "tags": []
          },
          "execution_count": 120
        }
      ]
    }
  ]
}