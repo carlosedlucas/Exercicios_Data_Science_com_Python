{
  "nbformat": 4,
  "nbformat_minor": 0,
  "metadata": {
    "colab": {
      "name": "Random Numpy",
      "provenance": []
    },
    "kernelspec": {
      "name": "python3",
      "display_name": "Python 3"
    },
    "language_info": {
      "name": "python"
    }
  },
  "cells": [
    {
      "cell_type": "markdown",
      "metadata": {
        "id": "QAxaZCZOcaL2"
      },
      "source": [
        "# Exercício 1\n",
        "\n",
        "Gere uma distribuição normal aleatória de ordem 4 x 5. Armazene o resultado em uma variável."
      ]
    },
    {
      "cell_type": "code",
      "metadata": {
        "colab": {
          "base_uri": "https://localhost:8080/"
        },
        "id": "0ReLCTWrcdk1",
        "outputId": "ec73cb19-9516-494d-8ba5-6b07f71bb3d3"
      },
      "source": [
        "import pandas as pd\n",
        "import numpy as np\n",
        "import matplotlib.pyplot as plt\n",
        "from numpy import random\n",
        "import seaborn as sns\n",
        "\n",
        "a = np.random.random((4,5))\n",
        "print(a)"
      ],
      "execution_count": 68,
      "outputs": [
        {
          "output_type": "stream",
          "text": [
            "[[0.81309384 0.37099601 0.40434562 0.60884237 0.36509646]\n",
            " [0.89531898 0.82391217 0.93478877 0.64743846 0.62860599]\n",
            " [0.42818698 0.36351844 0.28497302 0.739451   0.01032321]\n",
            " [0.57911278 0.63774619 0.98701729 0.67399545 0.66115299]]\n"
          ],
          "name": "stdout"
        }
      ]
    },
    {
      "cell_type": "markdown",
      "metadata": {
        "id": "cjWXuDlMe_hh"
      },
      "source": [
        "# Exercício 2\n",
        "\n",
        "Gere uma distribuição normal aleatória com de ordem 20 x 5, com média 10 e desvio padrão 3. Armazene o resultado em uma variável. Em seguida crie um DataFrame a partir dos dados criados."
      ]
    },
    {
      "cell_type": "code",
      "metadata": {
        "colab": {
          "base_uri": "https://localhost:8080/"
        },
        "id": "ihMEg-VSfBGL",
        "outputId": "6ab9d557-0645-40a1-d90d-40b16dfa68d8"
      },
      "source": [
        "a = random.normal(loc = 10, scale = 3, size = (20, 5))\n",
        "df = pd.DataFrame(a, columns = list('ABCDE'), index = range(1,a.shape[0]+1))\n",
        "print(df)"
      ],
      "execution_count": 44,
      "outputs": [
        {
          "output_type": "stream",
          "text": [
            "            A          B          C          D          E\n",
            "1   16.076640  12.468143   6.800853   7.092339   3.749004\n",
            "2    6.491749   7.607833  15.761982  15.117652  14.524778\n",
            "3   15.398186   8.885223  12.792119   8.669185  11.725363\n",
            "4   11.765774  14.468063  15.540617  11.307953   9.654288\n",
            "5   12.731824   7.717653  10.917884   8.922798   8.074356\n",
            "6    1.773637  15.258648   5.517626  11.717327   9.870007\n",
            "7   15.506955   4.685984   8.177008   8.327700   9.973663\n",
            "8   15.345526  12.100082  13.596980  10.667819  10.829743\n",
            "9   11.811657  10.919247   3.177863   6.762527   7.802348\n",
            "10   8.713108  11.136929   8.539603   9.621557   6.380716\n",
            "11   8.408864  11.242717  10.731216  17.219910   4.449503\n",
            "12   9.723149   8.782042   8.915507  13.205574   9.309185\n",
            "13  10.094756   9.774343  11.176641   9.527631  12.484880\n",
            "14   7.112159  12.312626  11.545763  11.829620  13.003422\n",
            "15   8.924044   5.937188  10.188797   9.126487   9.610790\n",
            "16  11.152740   9.095250  13.395847  13.672820  10.410122\n",
            "17  12.045196   8.976256   9.844182   7.909052  16.080689\n",
            "18  13.014419   7.710647   9.856588   6.022171  12.943795\n",
            "19   9.669819  11.999693   5.427196   8.913338   6.157401\n",
            "20   7.855966   8.456758  11.598873  11.134152   3.442726\n"
          ],
          "name": "stdout"
        }
      ]
    },
    {
      "cell_type": "markdown",
      "metadata": {
        "id": "slV8H9aOvFwt"
      },
      "source": [
        "# Exercício 3\n",
        "\n",
        "Gere uma distribuição normal padrão e utilize o módulo Seaborn para construir uma visualização dos dados. A amostra deve conter 3000 números. Use a função distplot() do módulo Seaborn e importe também"
      ]
    },
    {
      "cell_type": "code",
      "metadata": {
        "colab": {
          "base_uri": "https://localhost:8080/",
          "height": 774
        },
        "id": "QdnnjaSQvHLS",
        "outputId": "ac98ca68-82c8-4c72-afe7-0f0603abc584"
      },
      "source": [
        "amostra = random.normal(size=3000)\n",
        "print(amostra)\n",
        "sns.displot(amostra, kind = 'kde')\n",
        "sns.displot(amostra, kind = 'hist')"
      ],
      "execution_count": 69,
      "outputs": [
        {
          "output_type": "stream",
          "text": [
            "[ 1.03286459  0.83693645  0.02390235 ... -0.16315009 -0.37044395\n",
            "  0.92595397]\n"
          ],
          "name": "stdout"
        },
        {
          "output_type": "execute_result",
          "data": {
            "text/plain": [
              "<seaborn.axisgrid.FacetGrid at 0x7f87c1e1bd50>"
            ]
          },
          "metadata": {
            "tags": []
          },
          "execution_count": 69
        },
        {
          "output_type": "display_data",
          "data": {
            "image/png": "[encoded data removed]",
            "text/plain": [
              "<Figure size 360x360 with 1 Axes>"
            ]
          },
          "metadata": {
            "tags": [],
            "needs_background": "light"
          }
        },
        {
          "output_type": "display_data",
          "data": {
            "image/png": "[encoded data removed]",
            "text/plain": [
              "<Figure size 360x360 with 1 Axes>"
            ]
          },
          "metadata": {
            "tags": [],
            "needs_background": "light"
          }
        }
      ]
    },
    {
      "cell_type": "markdown",
      "metadata": {
        "id": "W2rXLxtny2uJ"
      },
      "source": [
        "# Exercício 4\n",
        "\n",
        "A distribuição binomial é uma distribuição discreta de probabilidade e descreve resultados binários, como sucesso e fracasso ou cara e coroa, por exemplo. Podemos criar dados aleatórios para esta distribuição com a função np.random.binomial().Sendo:\n",
        "\n",
        "n: número de tentativas;\n",
        "\n",
        "p: probabilidade de ocorrência de cada tentativa;\n",
        "\n",
        "size: tamanho do vetor retornado (shape).\n",
        "\n",
        "Com base nestas informações:\n",
        "\n",
        "Gere números aleatórios seguindo uma distribuição binomial, com 6 tentativas, em que a probabilidade de ocorrência de cada tentativa é 0.5, e tamanho 100. Armazene os dados em uma variável, 'data1'.\n",
        "\n",
        "Gere números aleatórios seguindo uma distribuição binomial, com 2 tentativas, em que a probabilidade de ocorrência de cada tentativa é 0.8, e tamanho 1000. Armazene os dados em uma variável, 'data2'."
      ]
    },
    {
      "cell_type": "code",
      "metadata": {
        "colab": {
          "base_uri": "https://localhost:8080/"
        },
        "id": "lgTh8DFi4XwP",
        "outputId": "94911555-263a-4e3e-a1f2-0638f4225844"
      },
      "source": [
        "data1 = np.random.binomial(n=6,p=0.5,size=100)\n",
        "data2 = np.random.binomial(n=2,p=0.8,size=1000)\n",
        "print(data1)"
      ],
      "execution_count": 70,
      "outputs": [
        {
          "output_type": "stream",
          "text": [
            "[5 5 4 3 2 3 2 4 3 3 1 2 2 3 2 5 1 4 3 3 3 1 4 5 4 1 3 1 3 2 2 3 2 1 3 2 4\n",
            " 5 4 4 2 1 2 2 6 5 2 4 4 3 3 2 2 1 4 2 4 5 4 2 1 4 3 3 3 4 1 2 2 3 3 2 1 4\n",
            " 4 0 4 1 4 3 3 4 4 1 3 3 2 4 2 3 2 4 3 1 3 1 6 2 3 5]\n"
          ],
          "name": "stdout"
        }
      ]
    },
    {
      "cell_type": "markdown",
      "metadata": {
        "id": "PkgIRrdq5Yuj"
      },
      "source": [
        "# Exercício 5\n",
        "\n",
        "Use o módulo Seaborn para visualizar a distribuição de números aleatórios oriunda de uma distribuição binomial, com 6 tentativas, probabilidade 0.5 e tamanho 3000."
      ]
    },
    {
      "cell_type": "code",
      "metadata": {
        "colab": {
          "base_uri": "https://localhost:8080/",
          "height": 386
        },
        "id": "7Z2_6uuv5aj_",
        "outputId": "83f5331f-8c8f-4f3e-d8fc-0e7fce6ba544"
      },
      "source": [
        "data = np.random.binomial(n=6,p=0.6,size=3000)\n",
        "sns.displot(data, kind='kde')"
      ],
      "execution_count": 74,
      "outputs": [
        {
          "output_type": "execute_result",
          "data": {
            "text/plain": [
              "<seaborn.axisgrid.FacetGrid at 0x7f87c1323610>"
            ]
          },
          "metadata": {
            "tags": []
          },
          "execution_count": 74
        },
        {
          "output_type": "display_data",
          "data": {
            "image/png": "[encoded data removed]",
            "text/plain": [
              "<Figure size 360x360 with 1 Axes>"
            ]
          },
          "metadata": {
            "tags": [],
            "needs_background": "light"
          }
        }
      ]
    },
    {
      "cell_type": "markdown",
      "metadata": {
        "id": "dsANzNyQ6AqR"
      },
      "source": [
        "# Exercício 6\n",
        "\n",
        "A distribuição uniforme é uma distribuição contínua de probabilidade, com importantes aplicações em estatística. Gere uma amostra da distribuição uniforme de shape 3 x 3."
      ]
    },
    {
      "cell_type": "code",
      "metadata": {
        "colab": {
          "base_uri": "https://localhost:8080/",
          "height": 457
        },
        "id": "TsIjcpH16HtI",
        "outputId": "04d04c52-4020-4ea6-dffc-242562d08e0d"
      },
      "source": [
        "a = random.uniform(size = (3, 3))\n",
        "df = pd.DataFrame(a, columns = list('ABC'), index = range(1,a.shape[0]+1))\n",
        "print(df)\n",
        "sns.displot(a, kind='kde')"
      ],
      "execution_count": 36,
      "outputs": [
        {
          "output_type": "stream",
          "text": [
            "          A         B         C\n",
            "1  0.328961  0.625841  0.491212\n",
            "2  0.888558  0.383832  0.510150\n",
            "3  0.903378  0.578539  0.361243\n"
          ],
          "name": "stdout"
        },
        {
          "output_type": "execute_result",
          "data": {
            "text/plain": [
              "<seaborn.axisgrid.FacetGrid at 0x7f23730d49d0>"
            ]
          },
          "metadata": {
            "tags": []
          },
          "execution_count": 36
        },
        {
          "output_type": "display_data",
          "data": {
            "image/png": "[encoded data removed]",
            "text/plain": [
              "<Figure size 402.375x360 with 1 Axes>"
            ]
          },
          "metadata": {
            "tags": [],
            "needs_background": "light"
          }
        }
      ]
    },
    {
      "cell_type": "markdown",
      "metadata": {
        "id": "AXrz7IjUBlYz"
      },
      "source": [
        "# Exercício 7\n",
        "\n",
        "Use o módulo Seaborn para visualizar a distribuição de números aleatórios oriunda de uma distribuição uniforme, de tamanho 1000."
      ]
    },
    {
      "cell_type": "code",
      "metadata": {
        "colab": {
          "base_uri": "https://localhost:8080/",
          "height": 386
        },
        "id": "tqOP0IQDBp0Y",
        "outputId": "9c640fc0-c6be-4d94-960a-b4929c8f7ed1"
      },
      "source": [
        "a = random.uniform(size=1000)\n",
        "sns.displot(a,kind='kde')"
      ],
      "execution_count": 96,
      "outputs": [
        {
          "output_type": "execute_result",
          "data": {
            "text/plain": [
              "<seaborn.axisgrid.FacetGrid at 0x7f87c0e3ee10>"
            ]
          },
          "metadata": {
            "tags": []
          },
          "execution_count": 96
        },
        {
          "output_type": "display_data",
          "data": {
            "image/png": "[encoded data removed]",
            "text/plain": [
              "<Figure size 360x360 with 1 Axes>"
            ]
          },
          "metadata": {
            "tags": [],
            "needs_background": "light"
          }
        }
      ]
    },
    {
      "cell_type": "markdown",
      "metadata": {
        "id": "bJNX1eUwCWOH"
      },
      "source": [
        "# Exercício 8\n",
        "\n",
        "Gere um array com números aleatórios entre -1000 e 3000, de shape (30, 5)."
      ]
    },
    {
      "cell_type": "code",
      "metadata": {
        "colab": {
          "base_uri": "https://localhost:8080/"
        },
        "id": "gf8Yuel9CaUS",
        "outputId": "85500891-62ff-4196-c59a-6c0d375c5c02"
      },
      "source": [
        "random.randint(low = -1000, high = 3000, size = (30,5))"
      ],
      "execution_count": 97,
      "outputs": [
        {
          "output_type": "execute_result",
          "data": {
            "text/plain": [
              "array([[2396,  885, -927, 1167,  977],\n",
              "       [ 153, 1479, 1375, -794, -458],\n",
              "       [-310, 2994, 1285, 2166, 2091],\n",
              "       [ 675, -119,  351, -322,  481],\n",
              "       [2028, -592, 1596,  911, 2957],\n",
              "       [2255, 1946,  -46, 1630, 1967],\n",
              "       [2757, 2080, 2367, 1740,  621],\n",
              "       [-169, 1501, 1873,  345, -529],\n",
              "       [ 998, 1128, 2418, 1294, -290],\n",
              "       [1112, 2845, 2200, 2788, -601],\n",
              "       [-577, 2303,  385, -401, -512],\n",
              "       [2075, -123, -738,  406, -570],\n",
              "       [-368,  379,   58,  883, 1738],\n",
              "       [ 300, 1891, 1239,  896, 2322],\n",
              "       [2549, -953, 1309, 1762,  404],\n",
              "       [-933,  -68, 1146, -121, 1544],\n",
              "       [-236, -511, 2851, 1480, -595],\n",
              "       [2998, -215, 1864, 1826,  709],\n",
              "       [-528, -794, 1140, 1248, 1813],\n",
              "       [2532, 1176, 2366, -960,   83],\n",
              "       [ 986, 2200, 2622, 1675,  261],\n",
              "       [1151,  365, -563, 2222, 2010],\n",
              "       [-302, 2034,  381,  561, 1152],\n",
              "       [ 974, 1204, 2497,  369, 2372],\n",
              "       [ 678, 2531, 2308, 1862, 1147],\n",
              "       [2747,  288, -193,  214, -387],\n",
              "       [-723,  -28, -622, 1148, -172],\n",
              "       [1156, 2026, -596,   93, -722],\n",
              "       [ 909,  919, 2193,  711, 1014],\n",
              "       [ 520, 1034,  -95,  465,  145]])"
            ]
          },
          "metadata": {
            "tags": []
          },
          "execution_count": 97
        }
      ]
    },
    {
      "cell_type": "markdown",
      "metadata": {
        "id": "2M9WXRdzEZGy"
      },
      "source": [
        "# Exercício 9\n",
        "\n",
        "Gere um array de shape 30 x 5 com números entre 0 e 4, inclusive."
      ]
    },
    {
      "cell_type": "code",
      "metadata": {
        "colab": {
          "base_uri": "https://localhost:8080/"
        },
        "id": "vd-wQPKUNcSn",
        "outputId": "95eef0fe-21e2-441e-c6ab-efd79376022a"
      },
      "source": [
        "a = random.randint(0,5,(30,5))\n",
        "print(a)"
      ],
      "execution_count": 100,
      "outputs": [
        {
          "output_type": "stream",
          "text": [
            "[[2 2 3 0 1]\n",
            " [0 4 1 0 3]\n",
            " [4 4 4 3 4]\n",
            " [0 3 1 1 3]\n",
            " [2 4 4 3 2]\n",
            " [0 3 2 0 2]\n",
            " [1 1 3 2 0]\n",
            " [2 4 0 3 2]\n",
            " [2 0 2 3 1]\n",
            " [4 1 3 4 0]\n",
            " [2 2 2 1 3]\n",
            " [2 1 0 1 1]\n",
            " [0 1 0 1 2]\n",
            " [3 2 1 4 4]\n",
            " [0 2 0 1 1]\n",
            " [1 4 1 4 4]\n",
            " [3 3 1 1 0]\n",
            " [4 4 0 4 4]\n",
            " [3 3 0 1 4]\n",
            " [1 4 0 4 2]\n",
            " [3 4 0 4 3]\n",
            " [4 4 2 1 1]\n",
            " [2 4 4 3 2]\n",
            " [4 4 1 4 4]\n",
            " [4 2 1 1 2]\n",
            " [2 4 2 0 3]\n",
            " [2 3 4 1 3]\n",
            " [1 0 0 4 4]\n",
            " [2 3 1 0 3]\n",
            " [4 2 2 2 3]]\n"
          ],
          "name": "stdout"
        }
      ]
    },
    {
      "cell_type": "markdown",
      "metadata": {
        "id": "KbgUWc9fPAtz"
      },
      "source": [
        "# Exercício 10\n",
        "\n",
        "Gere um array de números inteiros com limites superiores diferentes (100, 300, 50, 10000), mas com valor mínimo 10."
      ]
    },
    {
      "cell_type": "code",
      "metadata": {
        "colab": {
          "base_uri": "https://localhost:8080/"
        },
        "id": "EzEa4FWuPD7Z",
        "outputId": "f7d3e3ac-bee4-45d1-d4b4-6bdf961f52c0"
      },
      "source": [
        "a = random.randint(low = 10, high = [100, 300, 50, 10000])\n",
        "print(a)"
      ],
      "execution_count": 123,
      "outputs": [
        {
          "output_type": "stream",
          "text": [
            "[  70   88   25 8411]\n"
          ],
          "name": "stdout"
        }
      ]
    },
    {
      "cell_type": "markdown",
      "metadata": {
        "id": "TwSdaNBDUbwP"
      },
      "source": [
        "# Exercício 11\n",
        "\n",
        "Utilize a função np.random.rand() para gerar um array 10 x 5. Lembre que esta função gera por padrão números aleatórios de acordo com uma distribuição uniforme no intervalo [0,1). Em seguida mostre na tela a média, desvio padrão e mediana do array gerado."
      ]
    },
    {
      "cell_type": "code",
      "metadata": {
        "colab": {
          "base_uri": "https://localhost:8080/"
        },
        "id": "JoAOC5n6UgKy",
        "outputId": "cd77f09d-278a-4e9e-ad79-7da2d857c400"
      },
      "source": [
        "a = random.rand(10,5)\n",
        "print(a)\n",
        "\n",
        "print(f'Média: {a.mean().round(2)}')\n",
        "print(f'Desvio padrão: {a.std().round(2)}')\n",
        "print(f'Mediana: {np.median(a).round(2)}')"
      ],
      "execution_count": 126,
      "outputs": [
        {
          "output_type": "stream",
          "text": [
            "[[9.10510529e-01 9.00980127e-01 5.74112726e-01 3.92911051e-01\n",
            "  8.95231814e-02]\n",
            " [4.47071368e-01 1.74566992e-01 8.57013590e-01 8.74792178e-01\n",
            "  5.50436952e-01]\n",
            " [5.82123224e-02 2.33009977e-01 6.89061165e-02 4.36855975e-01\n",
            "  3.79796911e-01]\n",
            " [1.56867030e-01 8.05633517e-04 5.14917374e-01 5.02522207e-01\n",
            "  1.47830874e-01]\n",
            " [2.06953234e-01 8.10457569e-01 6.10977773e-01 4.07201147e-01\n",
            "  9.00480377e-01]\n",
            " [3.94432616e-01 4.41251895e-01 4.36456240e-01 8.56543392e-01\n",
            "  8.40799825e-01]\n",
            " [4.34470292e-01 7.98117691e-01 5.36996761e-01 7.25458408e-01\n",
            "  6.49558976e-01]\n",
            " [3.53370131e-01 4.82560279e-01 6.33051278e-01 8.04645226e-01\n",
            "  7.39923637e-02]\n",
            " [5.62116788e-01 2.87396105e-02 9.27553992e-01 6.79799611e-01\n",
            "  6.94700993e-01]\n",
            " [2.19697496e-01 7.78673893e-01 3.22950046e-02 2.26309113e-02\n",
            "  7.90283173e-01]]\n",
            "Média: 0.49\n",
            "Desvio padrão: 0.29\n",
            "Mediana: 0.49\n"
          ],
          "name": "stdout"
        }
      ]
    },
    {
      "cell_type": "markdown",
      "metadata": {
        "id": "huw23aEsZIrK"
      },
      "source": [
        "# Exercício 12\n",
        "\n",
        "Use a função np.random.randn() para gerar um array com números aleatórios de uma distribuição normal padrão, de shape 30 x 3. Seguidamente, crie um DataFrame com os dados criados e gere uma visualização da distribuição de probabilidade de cada coluna com o módulo Seaborn."
      ]
    },
    {
      "cell_type": "code",
      "metadata": {
        "colab": {
          "base_uri": "https://localhost:8080/",
          "height": 550
        },
        "id": "AaMr6TBeZLo9",
        "outputId": "dd007447-2510-4763-a286-cf59016e999d"
      },
      "source": [
        "a = random.randn(30,3)\n",
        "b = pd.DataFrame(data=a, columns = list('ABC'), index=range(1,a.shape[0]+1))\n",
        "sns.displot(b,kind='kde')\n",
        "b.head()"
      ],
      "execution_count": 11,
      "outputs": [
        {
          "output_type": "execute_result",
          "data": {
            "text/html": [
              "<div>\n",
              "<style scoped>\n",
              "    .dataframe tbody tr th:only-of-type {\n",
              "        vertical-align: middle;\n",
              "    }\n",
              "\n",
              "    .dataframe tbody tr th {\n",
              "        vertical-align: top;\n",
              "    }\n",
              "\n",
              "    .dataframe thead th {\n",
              "        text-align: right;\n",
              "    }\n",
              "</style>\n",
              "<table border=\"1\" class=\"dataframe\">\n",
              "  <thead>\n",
              "    <tr style=\"text-align: right;\">\n",
              "      <th></th>\n",
              "      <th>A</th>\n",
              "      <th>B</th>\n",
              "      <th>C</th>\n",
              "    </tr>\n",
              "  </thead>\n",
              "  <tbody>\n",
              "    <tr>\n",
              "      <th>1</th>\n",
              "      <td>-0.034653</td>\n",
              "      <td>-0.591954</td>\n",
              "      <td>0.541431</td>\n",
              "    </tr>\n",
              "    <tr>\n",
              "      <th>2</th>\n",
              "      <td>-0.029329</td>\n",
              "      <td>0.598908</td>\n",
              "      <td>-1.397548</td>\n",
              "    </tr>\n",
              "    <tr>\n",
              "      <th>3</th>\n",
              "      <td>0.063763</td>\n",
              "      <td>-0.282023</td>\n",
              "      <td>-0.688713</td>\n",
              "    </tr>\n",
              "    <tr>\n",
              "      <th>4</th>\n",
              "      <td>1.005437</td>\n",
              "      <td>0.055156</td>\n",
              "      <td>-0.589354</td>\n",
              "    </tr>\n",
              "    <tr>\n",
              "      <th>5</th>\n",
              "      <td>0.202948</td>\n",
              "      <td>-1.436071</td>\n",
              "      <td>0.997687</td>\n",
              "    </tr>\n",
              "  </tbody>\n",
              "</table>\n",
              "</div>"
            ],
            "text/plain": [
              "          A         B         C\n",
              "1 -0.034653 -0.591954  0.541431\n",
              "2 -0.029329  0.598908 -1.397548\n",
              "3  0.063763 -0.282023 -0.688713\n",
              "4  1.005437  0.055156 -0.589354\n",
              "5  0.202948 -1.436071  0.997687"
            ]
          },
          "metadata": {
            "tags": []
          },
          "execution_count": 11
        },
        {
          "output_type": "display_data",
          "data": {
            "image/png": "[encoded data removed]",
            "text/plain": [
              "<Figure size 402.875x360 with 1 Axes>"
            ]
          },
          "metadata": {
            "tags": [],
            "needs_background": "light"
          }
        }
      ]
    },
    {
      "cell_type": "markdown",
      "metadata": {
        "id": "9XonMDzj7ocY"
      },
      "source": [
        "# Exercício 12\n",
        "\n",
        "Use a função np.random.randn() para gerar um array com números aleatórios de uma distribuição normal padrão, de shape 30 x 3. Seguidamente, crie um DataFrame com os dados criados e gere uma visualização da distribuição de probabilidade de cada coluna com o módulo Seaborn."
      ]
    },
    {
      "cell_type": "code",
      "metadata": {
        "id": "uclTHnybaXHA",
        "outputId": "3cb5a964-9ee6-482a-abaf-360e1e7c7f1e",
        "colab": {
          "base_uri": "https://localhost:8080/",
          "height": 1000
        }
      },
      "source": [
        "a = random.randn(30,3)\n",
        "b = pd.DataFrame(data=a, columns=list('ABC'), index=range(1,a.shape[0]+1))\n",
        "print(b)\n",
        "sns.displot(b,kind='kde')\n",
        "sns.displot(b,kind='hist')"
      ],
      "execution_count": 10,
      "outputs": [
        {
          "output_type": "stream",
          "text": [
            "           A         B         C\n",
            "1   1.028468 -0.259287  1.148980\n",
            "2  -0.369260  0.217726  0.517991\n",
            "3   1.299561  0.671679  0.216054\n",
            "4   0.512478  0.682454 -0.793693\n",
            "5   1.120604 -0.409267  0.778347\n",
            "6  -0.595076  0.898009  0.149403\n",
            "7  -0.158032  0.094817  0.085462\n",
            "8   3.321190  0.592839 -0.841398\n",
            "9   1.927960 -2.783497 -0.105411\n",
            "10  0.154029 -1.697162  0.193991\n",
            "11 -0.294956 -0.068549  0.063906\n",
            "12 -1.060951  0.574157  0.677795\n",
            "13 -0.104446  0.655135  1.141679\n",
            "14  0.473082 -1.158503 -0.367860\n",
            "15  0.714415 -0.139999 -0.181337\n",
            "16  1.009579 -1.216359  1.417708\n",
            "17 -0.215723 -0.371610  0.460415\n",
            "18  0.716244 -1.005923 -0.731360\n",
            "19 -0.339553  0.398893  1.423776\n",
            "20  0.635031  1.182847  0.253443\n",
            "21 -0.424393 -0.262388 -0.680217\n",
            "22 -1.696284 -1.719545 -0.490481\n",
            "23 -0.628025  0.885940  0.831832\n",
            "24  1.035890 -0.168936  0.869618\n",
            "25  1.332095  0.060023 -0.068876\n",
            "26  1.701116  0.307961  1.239322\n",
            "27  0.395399  0.866785 -1.285719\n",
            "28  0.206475  0.367100  0.269207\n",
            "29 -1.296405  1.336521 -0.039792\n",
            "30  1.147756 -0.203476  1.450946\n"
          ],
          "name": "stdout"
        },
        {
          "output_type": "execute_result",
          "data": {
            "text/plain": [
              "<seaborn.axisgrid.FacetGrid at 0x7f23736f9e10>"
            ]
          },
          "metadata": {
            "tags": []
          },
          "execution_count": 10
        },
        {
          "output_type": "display_data",
          "data": {
            "image/png": "[encoded data removed]",
            "text/plain": [
              "<Figure size 402.875x360 with 1 Axes>"
            ]
          },
          "metadata": {
            "tags": [],
            "needs_background": "light"
          }
        },
        {
          "output_type": "display_data",
          "data": {
            "image/png": "[encoded data removed]",
            "text/plain": [
              "<Figure size 402.875x360 with 1 Axes>"
            ]
          },
          "metadata": {
            "tags": [],
            "needs_background": "light"
          }
        }
      ]
    },
    {
      "cell_type": "markdown",
      "metadata": {
        "id": "f-ZQzXy5dsCa"
      },
      "source": [
        "# Exercício 13\n",
        "\n",
        "Gere um array com 800 números aleatórios de acordo com uma distribuição exponencial padrão. Use a função np.random.standard_exponential()."
      ]
    },
    {
      "cell_type": "code",
      "metadata": {
        "id": "ePwF2P2pdxT8",
        "outputId": "14a48a3f-f878-4deb-d913-cf0c828d2ec1",
        "colab": {
          "base_uri": "https://localhost:8080/"
        }
      },
      "source": [
        "a = random.standard_exponential(800)\n",
        "print(a)"
      ],
      "execution_count": 11,
      "outputs": [
        {
          "output_type": "stream",
          "text": [
            "[2.53598767e+00 2.32398507e-01 1.24156460e+00 2.85565400e+00\n",
            " 5.73481414e-01 1.44305379e+00 1.56496063e+00 9.41187736e-01\n",
            " 8.59415909e-01 1.87783209e+00 4.77036788e-01 1.39782932e-01\n",
            " 2.61287159e-01 7.80695038e-01 5.71749975e-02 1.00362516e-01\n",
            " 5.74664759e-01 1.84717505e+00 4.40059050e-02 7.59431556e-01\n",
            " 1.88404316e-01 5.92535984e-01 1.13003936e+00 1.77757698e+00\n",
            " 1.12314887e+00 1.49484932e+00 7.75662467e-01 4.93832523e-01\n",
            " 1.15941363e+00 2.83439585e-01 7.98076510e-01 2.77528337e+00\n",
            " 1.59713097e-01 8.85215890e-01 1.13534237e+00 2.19245407e+00\n",
            " 6.48323445e-01 7.65169810e-01 5.68171308e-01 5.94856072e-01\n",
            " 4.04897167e+00 2.28366945e-02 4.59717485e-02 3.84608640e-01\n",
            " 4.68403844e-03 7.38717101e-01 1.71449088e+00 5.29463003e-01\n",
            " 1.26900096e+00 1.18907984e+00 3.75587769e-01 5.25147950e-01\n",
            " 2.21031602e-01 1.92493558e-01 3.91730373e+00 1.88600592e+00\n",
            " 7.87760727e-01 4.25685406e-01 2.78946413e-01 5.91718566e-01\n",
            " 1.37098617e+00 9.57074396e-02 5.59471588e-01 4.31403132e+00\n",
            " 1.21642209e+00 1.34017736e+00 1.24743848e+00 4.30558020e-01\n",
            " 1.03505160e+00 8.94690025e-01 1.74142973e-01 3.08178940e+00\n",
            " 1.04605394e-01 8.71295817e-01 2.14889168e-01 3.17013070e-01\n",
            " 3.34764896e-01 1.94874800e+00 4.70244893e-01 4.59104824e-02\n",
            " 2.87123073e-01 6.91122912e-02 6.04806019e-02 1.46662662e-01\n",
            " 4.89103899e-01 4.55639234e-01 1.82063409e-01 2.82333289e+00\n",
            " 2.81675130e-01 1.12170779e-01 3.31210734e-01 7.60148011e-01\n",
            " 3.12740798e+00 9.12334415e-02 8.46402707e-02 2.17637863e+00\n",
            " 6.71435094e-01 2.34187460e+00 2.92839259e-01 2.59710454e+00\n",
            " 6.39991835e-01 4.16365710e-01 2.21236036e+00 7.83239678e-02\n",
            " 6.20506781e-01 1.48770531e+00 1.35896847e+00 4.17354579e-01\n",
            " 1.33786428e-01 7.80407907e-01 2.14264310e+00 2.44605533e-01\n",
            " 1.44984563e+00 1.42728088e+00 1.97663783e+00 6.75150073e-01\n",
            " 1.59621042e+00 2.98412073e-01 1.48247956e+00 1.25415359e-01\n",
            " 1.58928818e-01 6.14900446e-01 4.65304037e-01 1.37160047e+00\n",
            " 6.81971622e-02 1.31990453e+00 4.40863713e-01 1.83104021e+00\n",
            " 1.99844261e-01 5.90780918e-01 1.62495586e+00 3.01145085e+00\n",
            " 1.78234711e-01 3.09927024e+00 3.01591785e-01 2.12269755e-01\n",
            " 2.29535376e+00 9.25983523e-02 8.47684226e-01 1.70914422e+00\n",
            " 8.25836969e-01 9.82662870e-02 1.96929545e-01 6.10965430e-01\n",
            " 3.09487628e-02 4.97242368e-02 3.00956458e-01 2.60238644e-01\n",
            " 4.52548013e-01 7.47522049e-02 1.25937539e+00 2.98540761e-01\n",
            " 2.16006809e+00 1.10186333e+00 1.18253870e+00 5.96207677e-01\n",
            " 9.66728131e-01 4.36002426e-01 3.17871866e-01 9.86926374e-01\n",
            " 9.36874232e-01 7.73651145e-01 9.01731736e-01 3.37969770e+00\n",
            " 2.26289209e-01 1.54566594e+00 2.86949134e+00 5.59531980e-01\n",
            " 2.17207770e+00 1.94335269e+00 2.73188566e-01 4.97324634e-01\n",
            " 2.93985308e+00 7.63731398e-01 3.02239109e-01 5.48227134e-01\n",
            " 2.14478731e+00 4.35381072e-01 4.39896857e-01 3.01615777e+00\n",
            " 1.32742012e+00 5.31828561e+00 2.58851003e-01 4.86690871e-01\n",
            " 2.89826968e-01 2.43253998e-01 1.24506926e+00 1.30039500e+00\n",
            " 2.52227890e-01 2.14130280e+00 1.42390984e+00 4.02675582e-01\n",
            " 3.49102512e-01 7.62981543e-01 7.47804590e-01 1.48496926e-01\n",
            " 2.01287638e-01 9.18269536e-01 4.31182208e-01 3.98299095e+00\n",
            " 6.12926970e-01 1.87060490e+00 6.55474666e-01 6.25330558e-01\n",
            " 3.46852822e+00 9.06023743e-01 2.57130499e+00 1.63247746e+00\n",
            " 5.36905140e+00 1.75999336e+00 1.62337802e+00 3.93159487e-01\n",
            " 4.28617007e-01 2.34618526e+00 1.25913525e-01 3.58437579e-02\n",
            " 2.00369015e+00 5.55508829e-01 1.66552931e-02 8.40220901e-02\n",
            " 1.55661466e+00 5.28637343e-01 5.20503679e-01 5.54523685e-01\n",
            " 6.14177441e-02 3.70442265e+00 1.31885696e+00 6.40926162e-01\n",
            " 2.82551471e+00 4.52944932e+00 1.08202664e+00 2.32793932e-01\n",
            " 1.35011808e-02 3.47783150e-01 1.82110599e+00 1.39226549e-01\n",
            " 5.33129285e-02 3.93869425e-01 3.41998225e-01 1.41095098e+00\n",
            " 1.88896116e+00 3.42124676e-01 7.07103317e-02 1.71815297e+00\n",
            " 1.88973179e+00 6.36590075e-01 3.89863192e-01 6.85881373e-02\n",
            " 6.67776769e-01 2.53526125e-01 2.12593479e-01 3.41567286e-01\n",
            " 2.61338189e+00 1.05529855e-01 6.35458268e-01 4.44992024e-01\n",
            " 1.63490656e-01 1.08426061e-02 3.06442857e+00 1.16019635e+00\n",
            " 3.84411307e-02 2.09421688e-02 1.38918823e+00 1.25614226e+00\n",
            " 2.44450913e-01 1.00641254e+00 2.07225097e+00 1.02674077e+00\n",
            " 2.89092399e+00 5.75127868e-01 6.90679759e-01 4.73574636e-01\n",
            " 1.33590449e+00 1.49445236e+00 3.11033002e-01 2.01439323e-01\n",
            " 1.95080358e-01 3.38372314e-01 2.06812620e-01 1.11890413e+00\n",
            " 1.88676349e-01 2.96818668e-01 9.20048583e-01 4.97101008e-01\n",
            " 6.40246370e-01 1.08657510e+00 8.75200553e-01 6.31364572e-01\n",
            " 3.65476138e+00 2.01947375e-01 8.20334256e-01 3.86393045e+00\n",
            " 1.56764827e+00 1.40666777e+00 8.94572302e-01 2.57738935e-01\n",
            " 6.61035108e-01 9.32575300e-01 1.80351500e+00 6.02668904e-01\n",
            " 1.76923471e+00 1.97251689e-01 1.36793349e+00 1.05770449e+00\n",
            " 1.01181670e+00 3.98010092e-01 1.45145854e+00 7.20284433e-01\n",
            " 1.60684743e+00 3.16141186e+00 1.05814532e+00 3.58905284e-01\n",
            " 3.72739807e+00 4.39554706e-01 6.42387431e-01 7.96997809e-02\n",
            " 1.67238594e+00 3.46071069e-01 2.34400399e-01 1.32068544e+00\n",
            " 1.61138306e+00 7.20386293e-01 2.86973574e+00 4.73356819e-01\n",
            " 7.00099502e-01 3.02839631e-01 7.52216263e-01 5.11983505e-01\n",
            " 2.79133317e+00 2.27207839e+00 1.82431199e-01 9.13558335e-01\n",
            " 6.40252731e-01 2.37614350e-01 7.15010393e-02 2.13832205e+00\n",
            " 1.79314554e-01 4.95163726e-01 5.48423342e+00 3.65754864e-02\n",
            " 1.20222300e-01 1.27489395e+00 8.81829681e-02 1.91164475e-01\n",
            " 6.42262598e-01 9.38788012e-01 1.99108955e-01 6.24606159e-01\n",
            " 2.89698005e-01 2.40327452e+00 9.77915406e-01 2.63184657e-01\n",
            " 2.63264834e-01 1.32785889e+00 1.60894710e+00 2.31050958e+00\n",
            " 8.50329553e-01 3.18129790e-01 6.18858964e-01 2.83677642e+00\n",
            " 1.07654010e+00 1.77607474e+00 1.10163284e+00 4.65532665e-01\n",
            " 4.69645379e-01 3.37388443e-01 1.53264209e+00 9.76460706e-02\n",
            " 5.50141539e-01 1.72794143e-01 1.07501378e-01 3.00177595e-01\n",
            " 2.45848798e-01 3.65264919e-01 3.05664721e-01 1.43737952e+00\n",
            " 3.60393373e-01 1.78437690e-02 1.25246159e-01 1.02131164e-02\n",
            " 1.32255572e+00 3.94323330e-01 5.03249713e-01 1.01263713e-01\n",
            " 8.88891589e-01 1.46668620e+00 8.51509976e-01 1.25161310e+00\n",
            " 3.92418533e-02 1.28336100e-01 1.77363525e-01 1.56073630e+00\n",
            " 1.11286510e-01 3.78334712e+00 4.82489473e-01 4.45642540e+00\n",
            " 5.58897077e-02 7.14888115e+00 5.59721583e-01 9.61005687e-01\n",
            " 5.42321623e-01 1.29697702e+00 2.12273406e+00 1.00976780e+00\n",
            " 8.70031541e-01 2.34806742e-01 1.17305657e+00 9.95438314e-01\n",
            " 1.82054152e+00 4.29380112e-02 1.98655341e+00 1.15835441e+00\n",
            " 6.51691613e-01 6.09527641e-01 9.77495957e-02 1.17765464e+00\n",
            " 1.85191921e-01 5.17470750e+00 2.28959853e+00 1.58148721e+00\n",
            " 1.44376743e-02 7.21567110e-01 5.26247515e+00 3.56718646e+00\n",
            " 4.88881409e-01 5.66108693e-01 1.09816552e+00 3.84916531e-01\n",
            " 2.39344922e-01 7.87463785e-01 1.05874107e-01 1.47504936e+00\n",
            " 8.92304874e-03 1.06122536e+00 8.77054461e-01 4.05346780e-01\n",
            " 8.26128453e-01 2.38500725e+00 1.84582309e-01 3.09445898e-01\n",
            " 1.41813194e-02 3.69563262e-01 3.68116280e-01 7.38635023e-01\n",
            " 1.55769411e+00 1.78471536e-01 1.73633847e-01 1.30245553e+00\n",
            " 1.38166131e+00 1.90255856e+00 8.75135933e-02 6.24117127e-01\n",
            " 1.30933770e+00 5.14903172e-02 2.42652051e-01 6.69116702e-01\n",
            " 3.39653748e-01 1.21949431e+00 7.63349188e-02 6.68367221e-01\n",
            " 2.23252424e-01 1.26232645e-01 1.52269672e+00 5.63314339e+00\n",
            " 2.78179187e+00 2.61459644e+00 2.07694384e+00 9.19322586e-01\n",
            " 1.95454293e+00 9.60386849e-01 2.98177651e-02 2.36911912e+00\n",
            " 1.09806564e+00 2.26243571e-01 1.85517946e-01 7.60386281e-01\n",
            " 5.51416620e-01 1.47490717e+00 5.84086816e-01 4.14291544e-01\n",
            " 1.55521963e+00 2.07438062e-01 9.69171814e-01 1.17438955e-01\n",
            " 1.39160632e+00 7.86662600e-01 1.16794612e+00 6.17718113e-01\n",
            " 8.79982831e-01 3.18790452e-01 3.35143043e-01 1.45150159e+00\n",
            " 6.68639185e-01 6.04056762e-01 4.14593093e-01 6.28663895e-01\n",
            " 3.32553871e+00 2.71955175e-02 4.86118093e-01 9.94500306e-01\n",
            " 6.11992166e-02 9.61894841e-02 9.80147382e-02 3.26974747e-01\n",
            " 1.92025112e-02 3.67058037e-01 1.95882538e-01 9.16437009e-01\n",
            " 7.18398110e-01 2.23970194e+00 1.79498884e-01 1.81645276e+00\n",
            " 4.39051600e-01 5.06423452e-01 8.47230103e-01 1.03479127e+00\n",
            " 3.84892110e-01 2.33816886e+00 7.76129547e-01 3.60656634e-01\n",
            " 1.80431066e+00 1.08958953e-01 3.02212846e+00 8.68682831e-01\n",
            " 4.80558385e-01 8.12118785e-01 9.95535448e-01 1.00827426e+00\n",
            " 5.73556365e-01 6.93245876e-01 1.03499532e+00 2.87480474e-02\n",
            " 1.34031615e+00 3.08361113e-01 6.65055743e-01 3.77831525e-01\n",
            " 3.89130975e+00 1.41197181e+00 4.99339099e+00 7.75697988e-01\n",
            " 1.51950917e+00 8.97961844e-01 3.02947670e-01 1.23219919e+00\n",
            " 3.58764461e-01 1.51125772e+00 4.76857086e-01 1.11232199e+00\n",
            " 2.29770996e+00 6.71388772e-01 2.06142573e+00 1.74926081e+00\n",
            " 1.11243507e+00 3.29364522e-01 5.53446944e-01 2.99198199e-01\n",
            " 1.21411812e+00 1.03357624e+00 1.23292830e+00 7.39359933e-01\n",
            " 3.05148901e-01 6.26728865e-01 1.52936770e+00 4.72209487e+00\n",
            " 1.23292249e+00 9.78773695e-01 5.54990372e-01 2.30668035e-01\n",
            " 2.03007620e-01 4.81836380e-01 1.07867197e+00 5.26352473e-01\n",
            " 2.73559940e+00 3.30156725e-01 1.22326166e+00 4.64723312e-02\n",
            " 1.11869904e-01 3.17855659e+00 2.63856677e-01 2.03057842e+00\n",
            " 3.91424217e-01 7.81095519e-01 1.56246013e-01 1.48198223e+00\n",
            " 1.38996086e+00 5.19897115e-01 8.47090134e-01 6.60187963e-02\n",
            " 1.50101871e+00 1.07403893e+00 1.63090155e+00 5.88630749e-01\n",
            " 1.83598343e-01 1.81827492e+00 2.06121581e+00 8.49800698e-01\n",
            " 1.18432508e+00 2.22285588e-01 8.47612384e-01 3.94660602e-01\n",
            " 1.50418553e+00 1.10091713e+00 6.03821583e-01 1.67866324e+00\n",
            " 1.31159550e+00 1.48123145e-01 5.17820587e-01 2.44938588e-01\n",
            " 5.10964364e-01 8.21188674e-01 1.59870721e+00 7.47474874e-01\n",
            " 1.45563534e+00 3.33831657e-01 4.63231857e-01 5.77526175e+00\n",
            " 3.75298455e-01 6.13155349e-01 5.50240412e-01 1.53440474e-01\n",
            " 7.21182216e-01 4.22983533e-01 2.44508380e-01 4.42811706e-01\n",
            " 6.83073184e-01 1.91561879e+00 7.24580058e-01 2.45784044e-01\n",
            " 1.13160225e+00 1.09288582e+00 3.65849058e-01 1.23125009e+00\n",
            " 6.35160533e-02 1.93208418e+00 8.06812412e-01 9.24233473e-01\n",
            " 3.83226541e-01 3.06793328e+00 3.93426200e-01 3.65631411e-01\n",
            " 6.68244488e-01 1.10077682e-01 1.16272569e-01 2.60670960e-01\n",
            " 2.51216598e+00 3.05282054e+00 1.55722082e-01 9.35146801e-01\n",
            " 3.99900473e+00 3.54559912e-01 1.06123949e+00 2.21465482e+00\n",
            " 6.62159469e-01 2.26268022e-01 1.71595920e+00 6.22567824e-01\n",
            " 4.74632814e-01 1.26485993e+00 2.68632030e+00 1.90529182e-01\n",
            " 5.04429705e-01 1.60630411e+00 3.10656405e+00 3.02623804e+00\n",
            " 4.67168214e-02 9.85708800e-01 1.08727074e+00 3.83746605e-01\n",
            " 1.74173604e+00 5.93252811e-01 1.14132681e+00 1.34848568e+00\n",
            " 1.47438451e-01 2.80410997e+00 1.00476807e+00 3.00462468e+00\n",
            " 1.10686187e+00 1.91458390e-01 1.13849533e+00 7.06644446e-01\n",
            " 9.03026412e-01 1.41156675e+00 3.32280569e+00 2.55222884e+00\n",
            " 7.96812764e-01 1.34910657e+00 1.58082718e+00 1.57936213e+00\n",
            " 1.78184972e-01 1.38372174e+00 1.25865916e+00 2.56481816e+00\n",
            " 2.18938348e-01 6.90950337e-01 6.39609256e-01 9.66294249e-01\n",
            " 7.10964243e-02 1.14319911e+00 4.30314122e-01 1.38575243e+00\n",
            " 1.23696895e+00 2.03856241e+00 1.62091592e-01 3.32674059e-01\n",
            " 6.06614309e-01 1.68862182e-01 1.61217733e+00 1.83461067e+00\n",
            " 8.82032096e-01 2.15952833e-01 7.82151292e-01 1.35699999e+00\n",
            " 9.34428358e-02 1.11429663e+00 1.49456470e+00 6.55870495e-02\n",
            " 3.92908370e-01 3.08589305e-01 1.68930874e+00 2.13133750e+00\n",
            " 2.16658711e+00 3.23638195e-01 1.77777349e-01 1.03670637e+00\n",
            " 1.82237274e-01 3.86749666e+00 8.08583042e-01 2.59495552e+00\n",
            " 4.93438868e-01 3.45470026e-01 1.08023094e-01 3.01220504e+00\n",
            " 8.75440759e-01 2.47298158e-01 1.60977411e-02 1.23408924e+00\n",
            " 4.91190404e-02 1.25169754e+00 1.57383894e+00 1.32682194e+00\n",
            " 2.64799657e-01 7.17165280e-01 6.99030267e-01 1.67818425e+00\n",
            " 1.02576140e+00 5.54948222e-02 1.07413999e-01 2.62120344e+00\n",
            " 4.03983194e+00 1.65217324e+00 4.08507252e-01 3.11227846e-01\n",
            " 2.19384587e+00 1.03346563e+00 2.99506907e-02 4.62332440e-01\n",
            " 2.97867380e+00 8.90212607e-01 2.49176381e+00 3.44665248e-01\n",
            " 1.23652115e+00 8.79739087e-01 1.32846967e+00 6.04366241e-01\n",
            " 1.45717692e-01 1.32362237e+00 3.15057560e-01 2.24863800e+00\n",
            " 2.26717464e+00 1.34902050e+00 9.70151368e-01 2.65246515e-02\n",
            " 1.07051893e-01 2.46507544e-01 5.61497815e-01 1.86339182e+00\n",
            " 1.64220915e+00 6.27991576e-01 1.62521767e-01 1.49506635e-01\n",
            " 1.00732287e-01 1.44611129e-01 3.54221352e-01 7.91638630e-01\n",
            " 1.77556799e+00 4.80258753e-01 1.33040390e-01 1.20071667e-01\n",
            " 3.27666290e-02 6.66767827e-01 5.13082743e-02 1.38971835e+00\n",
            " 7.11476688e-02 1.13431204e-01 2.00342752e-01 2.52223708e-01\n",
            " 1.52848721e+00 1.28198298e+00 4.06293204e+00 9.88804650e-01]\n"
          ],
          "name": "stdout"
        }
      ]
    },
    {
      "cell_type": "markdown",
      "metadata": {
        "id": "ir3_NJDXeANJ"
      },
      "source": [
        "# Exercício 14\n",
        "\n",
        "A distribuição de Poisson é uma distribuição discreta de probabilidade. Esta distribuição descreve quantas vezes um determinado evento pode ocorrer em um tempo especificado. A biblioteca NumPy permite gerar números aleatórios desta distribuição com a função np.random.poisson(). Gere uma distribuição aleatória de shape 50 x 3, com número conhecido de ocorrências igual a 5."
      ]
    },
    {
      "cell_type": "code",
      "metadata": {
        "id": "y9mjUrsOeCXy",
        "outputId": "b60bc0e6-5633-4c48-8d83-55c9b401f187",
        "colab": {
          "base_uri": "https://localhost:8080/"
        }
      },
      "source": [
        "a = random.poisson(lam=5,size=(50,3))\n",
        "print(a)"
      ],
      "execution_count": 12,
      "outputs": [
        {
          "output_type": "stream",
          "text": [
            "[[ 4  6  8]\n",
            " [ 3  8  5]\n",
            " [ 3  7  8]\n",
            " [ 4  4  4]\n",
            " [ 4  2  2]\n",
            " [ 4  9  3]\n",
            " [ 8  8  5]\n",
            " [ 3  4  5]\n",
            " [ 8  6  6]\n",
            " [ 4  4  5]\n",
            " [10  4  6]\n",
            " [ 4  4 10]\n",
            " [ 5  3  2]\n",
            " [ 5  4  3]\n",
            " [ 7  4  4]\n",
            " [ 5  5  2]\n",
            " [ 3  8  4]\n",
            " [ 5  9  6]\n",
            " [ 6  1  6]\n",
            " [ 3  4  5]\n",
            " [ 8  5 12]\n",
            " [ 7  5  6]\n",
            " [ 4  3  5]\n",
            " [ 2  3  9]\n",
            " [ 4  4  8]\n",
            " [ 3  1  5]\n",
            " [ 9  6  5]\n",
            " [ 6  4  8]\n",
            " [ 3  4  2]\n",
            " [ 4  3  6]\n",
            " [ 9  9  4]\n",
            " [ 3  2  3]\n",
            " [ 1  5  4]\n",
            " [ 7  4  6]\n",
            " [ 4  8  4]\n",
            " [ 4  5  7]\n",
            " [ 2 11  7]\n",
            " [ 6  6  3]\n",
            " [ 7  6  7]\n",
            " [ 3  2  5]\n",
            " [ 4  1  4]\n",
            " [ 4  6  6]\n",
            " [ 4  9  2]\n",
            " [ 6  4  4]\n",
            " [ 1  4  8]\n",
            " [ 7  5  8]\n",
            " [ 8  6  2]\n",
            " [ 1  4  2]\n",
            " [ 3  4  2]\n",
            " [ 3  6  5]]\n"
          ],
          "name": "stdout"
        }
      ]
    },
    {
      "cell_type": "markdown",
      "metadata": {
        "id": "uwWPSYoXelAX"
      },
      "source": [
        "# Exercício 15\n",
        "\n",
        "Gere uma distribuição aleatória de Poisson com 10.000 amostras, em que o número conhecido de ocorrências é igual 3. Armazene os dados em um objeto Pandas Series."
      ]
    },
    {
      "cell_type": "code",
      "metadata": {
        "id": "eFG5hZE7epZw",
        "outputId": "45ff9feb-e9d3-45b8-f373-aab16ce4dfb5",
        "colab": {
          "base_uri": "https://localhost:8080/",
          "height": 314
        }
      },
      "source": [
        "a = random.poisson(lam=3,size=10000)\n",
        "print(a)\n",
        "series = pd.Series(a, name = 'Poisson')\n",
        "sns.histplot(series, kde = True)"
      ],
      "execution_count": 16,
      "outputs": [
        {
          "output_type": "stream",
          "text": [
            "[2 5 3 ... 5 5 4]\n"
          ],
          "name": "stdout"
        },
        {
          "output_type": "execute_result",
          "data": {
            "text/plain": [
              "<matplotlib.axes._subplots.AxesSubplot at 0x7f2383fa59d0>"
            ]
          },
          "metadata": {
            "tags": []
          },
          "execution_count": 16
        },
        {
          "output_type": "display_data",
          "data": {
            "image/png": "[encoded data removed]",
            "text/plain": [
              "<Figure size 432x288 with 1 Axes>"
            ]
          },
          "metadata": {
            "tags": [],
            "needs_background": "light"
          }
        }
      ]
    },
    {
      "cell_type": "markdown",
      "metadata": {
        "id": "E7EdtWlcimKq"
      },
      "source": [
        "# Exercício 16\n",
        "\n",
        "A função np.random.choice() gera uma amostra aleatória de um array unidimensional. Gere uma amostra aleatória de tamanho 10, a partir das letras 'a', 'b', 'c', 'd'."
      ]
    },
    {
      "cell_type": "code",
      "metadata": {
        "id": "n2ZQCwy6irJ_",
        "outputId": "9709b512-d06b-433c-8b59-724c1438151d",
        "colab": {
          "base_uri": "https://localhost:8080/"
        }
      },
      "source": [
        "a = ['a','b','c','d']\n",
        "b = random.choice(a, 10)\n",
        "print(b)\n"
      ],
      "execution_count": 19,
      "outputs": [
        {
          "output_type": "stream",
          "text": [
            "['c' 'd' 'd' 'c' 'a' 'b' 'd' 'b' 'd' 'a']\n"
          ],
          "name": "stdout"
        }
      ]
    },
    {
      "cell_type": "markdown",
      "metadata": {
        "id": "yY3YBxzRkBcK"
      },
      "source": [
        "# Exercício 17\n",
        "\n",
        "Gere um DataFrame com 7 colunas e 100 linhas, com as seguintes características:\n",
        "\n",
        "a coluna 'A' segue uma distribuição normal padrão;\n",
        "\n",
        "a coluna 'B' segue uma distribuição uniforme;\n",
        "\n",
        "a coluna 'C' segue uma distribuição binomial, com 6 tentativas e probabilidade de sucesso 0.6;\n",
        "\n",
        "a coluna 'D' segue uma distribuição exponencial padrão;\n",
        "\n",
        "a coluna 'E' segue uma distribuição de Poisson com número conhecido de ocorrências igual a 10;\n",
        "\n",
        "a coluna 'F' segue uma distribuição normal de média 100 e desvio padrão 15;\n",
        "\n",
        "a coluna 'G' possui números aleatórios inteiros entre 50 e 3000."
      ]
    },
    {
      "cell_type": "code",
      "metadata": {
        "id": "L8lQYEqWl7g_",
        "outputId": "07c9df63-15e3-4a10-acaf-4443e44b3750",
        "colab": {
          "base_uri": "https://localhost:8080/"
        }
      },
      "source": [
        "dados = {\n",
        "    'A': random.normal(size=100),\n",
        "    'B': random.uniform(size=100),\n",
        "    'C': random.binomial(n=6,p=0.6,size=100),\n",
        "    'D': random.standard_exponential(100),\n",
        "    'E': random.poisson(lam=10,size=(100)),\n",
        "    'F': random.normal(loc = 100, scale = 15, size = (100)),\n",
        "    'G': random.randint(low = 50, high = 3000, size = (100))\n",
        "}\n",
        "\n",
        "df = pd.DataFrame(data=dados,index=range(1,dados['A'].shape[0]+1))\n",
        "print(df)"
      ],
      "execution_count": 57,
      "outputs": [
        {
          "output_type": "stream",
          "text": [
            "            A         B  C         D   E           F     G\n",
            "1   -0.790202  0.049855  4  1.289469  12  138.246965  1094\n",
            "2    2.255897  0.227637  4  0.118193  16  105.299786  2192\n",
            "3    0.277284  0.918570  4  3.924815  10   94.023925  2343\n",
            "4    0.944900  0.974674  1  3.628532   8  105.948164   407\n",
            "5    1.679529  0.836750  3  0.141895   8  137.361017  1637\n",
            "..        ...       ... ..       ...  ..         ...   ...\n",
            "96  -0.770695  0.282516  3  3.266626  12  119.551249  1064\n",
            "97   0.052314  0.862946  3  0.719515   7  107.463931  1160\n",
            "98   0.788269  0.403770  4  0.525350  16  109.338299  2583\n",
            "99   1.748789  0.322735  3  0.841106  15   94.894591  1914\n",
            "100  1.913022  0.234602  4  1.205038  10   97.699355  1136\n",
            "\n",
            "[100 rows x 7 columns]\n"
          ],
          "name": "stdout"
        }
      ]
    },
    {
      "cell_type": "markdown",
      "metadata": {
        "id": "lLdSjWzOJNSy"
      },
      "source": [
        "# Exercício 18\n",
        "\n",
        "Gere uma amostra da distribuição Qui-Quadrado com 3 graus de liberdade e shape 5 x 5;\n",
        "\n",
        "Gere uma amostra da distribuição Qui-Quadrado com 2 graus de liberdade e tamanho 2.000 e plot um gráfico para visualizar a distribuição de probabilidade gerada;\n",
        "\n",
        "Gere uma amostra de uma distribuição Exponencial com scale 5 e shape 2 x 2.\n"
      ]
    },
    {
      "cell_type": "code",
      "metadata": {
        "id": "sZua1pcDKrt-",
        "outputId": "2ee46ef1-4056-4953-c3e2-e1c7c42fcaf4",
        "colab": {
          "base_uri": "https://localhost:8080/",
          "height": 1000
        }
      },
      "source": [
        "a = random.chisquare(df=3,size=(5,5))\n",
        "print(a)\n",
        "b = random.chisquare(df=2,size=2000)\n",
        "plt.figure(figsize = (10, 8))\n",
        "sns.histplot(b, kde= True, color = 'red');\n",
        "sns.displot(b, kind='hist')\n",
        "sns.displot(b, kind='kde')\n",
        "sns.displot(b, kind='ecdf')\n",
        "\n",
        "c = random.exponential(scale = 5, size = (2, 2))\n",
        "print(c)"
      ],
      "execution_count": 72,
      "outputs": [
        {
          "output_type": "stream",
          "text": [
            "[[ 3.7901344   0.89552471  6.13150804  2.93652595 10.61162146]\n",
            " [ 0.38970156  4.87362854  2.21572094  1.34960402  4.00200949]\n",
            " [ 1.31956581  2.26330238  1.00732442  4.06689232  2.83991213]\n",
            " [ 0.99427242  4.00215522  6.64711419  7.52355676  4.16554214]\n",
            " [ 2.53655669  0.23654759  3.17938554  3.8264484  12.7487434 ]]\n",
            "[[1.47801109 2.82391081]\n",
            " [2.99252963 1.93319347]]\n"
          ],
          "name": "stdout"
        },
        {
          "output_type": "display_data",
          "data": {
            "image/png": "[encoded data removed]",
            "text/plain": [
              "<Figure size 720x576 with 1 Axes>"
            ]
          },
          "metadata": {
            "tags": [],
            "needs_background": "light"
          }
        },
        {
          "output_type": "display_data",
          "data": {
            "image/png": "[encoded data removed]",
            "text/plain": [
              "<Figure size 360x360 with 1 Axes>"
            ]
          },
          "metadata": {
            "tags": [],
            "needs_background": "light"
          }
        },
        {
          "output_type": "display_data",
          "data": {
            "image/png": "[encoded data removed]",
            "text/plain": [
              "<Figure size 360x360 with 1 Axes>"
            ]
          },
          "metadata": {
            "tags": [],
            "needs_background": "light"
          }
        },
        {
          "output_type": "display_data",
          "data": {
            "image/png": "[encoded data removed]",
            "text/plain": [
              "<Figure size 360x360 with 1 Axes>"
            ]
          },
          "metadata": {
            "tags": [],
            "needs_background": "light"
          }
        }
      ]
    },
    {
      "cell_type": "markdown",
      "metadata": {
        "id": "XAOoTGmDXH8_"
      },
      "source": [
        "# Exercício 19\n",
        "\n",
        "A distribuição logística é amplamente utilizada em Machine Learning e Redes Neurais. Gere um vetor com números aleatórios de uma amostra de tamanho 100, gerado por meio de uma distribuição logística com média 5 e desvio padrão 0.9."
      ]
    },
    {
      "cell_type": "code",
      "metadata": {
        "id": "TqhYxNRqXNun",
        "outputId": "b68d2992-7547-4b92-c949-2d5380ed9012",
        "colab": {
          "base_uri": "https://localhost:8080/"
        }
      },
      "source": [
        "random.logistic(loc=5,scale=0.9,size=100)"
      ],
      "execution_count": 73,
      "outputs": [
        {
          "output_type": "execute_result",
          "data": {
            "text/plain": [
              "array([5.80948373, 6.50903602, 5.39081092, 5.11651698, 6.35041524,\n",
              "       5.87865246, 3.60439812, 5.41678943, 5.95417832, 2.98523179,\n",
              "       2.45258517, 4.9433783 , 0.12161396, 3.41361769, 2.12375206,\n",
              "       3.11723117, 3.69478711, 4.24598588, 4.07728079, 3.07833762,\n",
              "       9.61497797, 6.90504548, 4.62532272, 6.23427051, 5.35296532,\n",
              "       8.85309627, 6.57704685, 6.33019139, 4.82694459, 5.57732536,\n",
              "       5.50353971, 2.94647336, 5.4639944 , 4.79198242, 8.49911666,\n",
              "       2.56743858, 5.52557557, 4.78617614, 3.40289927, 5.10820316,\n",
              "       4.06212088, 5.18471326, 5.19509548, 1.65081241, 4.28900516,\n",
              "       9.5055836 , 5.4221764 , 5.26389874, 6.31069232, 3.44610228,\n",
              "       6.32363933, 5.81667828, 7.28282833, 2.35622964, 5.69061981,\n",
              "       6.40615089, 4.95001425, 5.39144162, 2.80922751, 3.45089886,\n",
              "       4.46025513, 4.69416081, 5.00792608, 7.0782288 , 3.20149919,\n",
              "       6.47629822, 6.31791825, 6.7559125 , 5.17031063, 6.87957901,\n",
              "       4.5791392 , 4.54505035, 3.62238591, 5.53975186, 5.90615672,\n",
              "       5.4875874 , 4.96274148, 3.86355091, 6.79331915, 7.17403469,\n",
              "       4.40268999, 6.29783546, 3.58537162, 4.61143409, 3.58890901,\n",
              "       3.89616246, 4.30507034, 2.20778148, 3.78550672, 7.18242651,\n",
              "       4.43345367, 4.39974384, 6.14437831, 6.514024  , 5.37425782,\n",
              "       7.41066896, 5.47834075, 4.96467107, 4.84200109, 4.75600328])"
            ]
          },
          "metadata": {
            "tags": []
          },
          "execution_count": 73
        }
      ]
    },
    {
      "cell_type": "markdown",
      "metadata": {
        "id": "dRViCkqvY0o7"
      },
      "source": [
        "# Exercício 20\n",
        "\n",
        "Construa dois vetores de tamanho 100, com média 1 e desvio padrão 0.5, sendo que o primeiro segue uma distribuição normal, ao passo que o segundo vetor segue uma distribuição logística. Em seguida construa um DataFrame com os números aleatórios criados e gere um gráfico único que mostre ambas as distribuições aleatórias geradas."
      ]
    },
    {
      "cell_type": "code",
      "metadata": {
        "id": "MZdySN7YY6fi",
        "outputId": "252d81ad-eb19-4175-cbca-5f138c70c50d",
        "colab": {
          "base_uri": "https://localhost:8080/",
          "height": 334
        }
      },
      "source": [
        "a = random.normal(loc=1,scale=0.5,size=100)\n",
        "b = random.logistic(loc=1,scale=0.5,size=100)\n",
        "\n",
        "df = pd.DataFrame({'Normal':a, 'Logistic':b})\n",
        "dist = ['Normal', 'Logistic']\n",
        "plt.figure(figsize = (8, 5))\n",
        "sns.kdeplot(data = df, x = 'Normal')\n",
        "sns.kdeplot(data = df, x = 'Logistic')\n",
        "plt.legend(dist, loc = 'upper left')\n",
        "plt.xlabel('Valores')\n",
        "plt.show()\n"
      ],
      "execution_count": 83,
      "outputs": [
        {
          "output_type": "display_data",
          "data": {
            "image/png": "[encoded data removed]",
            "text/plain": [
              "<Figure size 576x360 with 1 Axes>"
            ]
          },
          "metadata": {
            "tags": [],
            "needs_background": "light"
          }
        }
      ]
    }
  ]
}