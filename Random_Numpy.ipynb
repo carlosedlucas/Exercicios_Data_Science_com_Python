{
  "nbformat": 4,
  "nbformat_minor": 0,
  "metadata": {
    "colab": {
      "name": "Random Numpy",
      "provenance": []
    },
    "kernelspec": {
      "name": "python3",
      "display_name": "Python 3"
    },
    "language_info": {
      "name": "python"
    }
  },
  "cells": [
    {
      "cell_type": "markdown",
      "metadata": {
        "id": "QAxaZCZOcaL2"
      },
      "source": [
        "# Exercício 1\n",
        "\n",
        "Gere uma distribuição normal aleatória de ordem 4 x 5. Armazene o resultado em uma variável."
      ]
    },
    {
      "cell_type": "code",
      "metadata": {
        "colab": {
          "base_uri": "https://localhost:8080/"
        },
        "id": "0ReLCTWrcdk1",
        "outputId": "4b3a8209-e987-4d22-c7ff-40f0062df114"
      },
      "source": [
        "import pandas as pd\n",
        "import numpy as np\n",
        "from numpy import random\n",
        "import seaborn as sns\n",
        "\n",
        "a = np.random.random((4,5))\n",
        "print(a)"
      ],
      "execution_count": 3,
      "outputs": [
        {
          "output_type": "stream",
          "text": [
            "[[0.57345329 0.43526995 0.85242042 0.82733933 0.96709949]\n",
            " [0.23596455 0.93943156 0.14679833 0.93654831 0.44015462]\n",
            " [0.45233888 0.05761996 0.00910449 0.14806558 0.03348171]\n",
            " [0.46998831 0.88333267 0.3441498  0.15195201 0.65345502]]\n"
          ],
          "name": "stdout"
        }
      ]
    },
    {
      "cell_type": "markdown",
      "metadata": {
        "id": "cjWXuDlMe_hh"
      },
      "source": [
        "# Exercício 2\n",
        "\n",
        "Gere uma distribuição normal aleatória com de ordem 20 x 5, com média 10 e desvio padrão 3. Armazene o resultado em uma variável. Em seguida crie um DataFrame a partir dos dados criados."
      ]
    },
    {
      "cell_type": "code",
      "metadata": {
        "colab": {
          "base_uri": "https://localhost:8080/"
        },
        "id": "ihMEg-VSfBGL",
        "outputId": "ecb9f2c9-8eac-4b19-cebc-f6539a34d59a"
      },
      "source": [
        "a = random.normal(loc = 10, scale = 3, size = (20, 5))\n",
        "df = pd.DataFrame(a, columns = list('ABCDE'), index = range(1,a.shape[0]+1))\n",
        "print(df)"
      ],
      "execution_count": 75,
      "outputs": [
        {
          "output_type": "stream",
          "text": [
            "            A          B          C          D          E\n",
            "1   11.849736   9.295599  10.374552   6.266088  13.399311\n",
            "2   13.003914  11.748653   6.549987  11.680634   9.928083\n",
            "3    7.588662   6.500730  13.444706  12.489406  11.525369\n",
            "4   10.700065   9.213555  11.280756   5.123891   7.254278\n",
            "5   13.965068  12.011884   9.035116   6.159485  10.902528\n",
            "6    8.151220   9.023589  15.781469   7.966679   8.943213\n",
            "7   12.019635   9.628347  11.369194   7.905960  10.598053\n",
            "8    8.936746  17.161280   8.387211   7.246618   7.531932\n",
            "9   11.630776  10.127292   7.912698   7.368475   4.057029\n",
            "10  12.754608  11.131951  11.640246  10.445456  15.233331\n",
            "11  12.359089  12.614712  12.843435  11.720238  14.807658\n",
            "12   9.677240   2.480582   7.049148  11.133870   6.663412\n",
            "13   8.189876   7.769083  11.350535  18.382492   6.599623\n",
            "14   7.631121   8.916563  13.077800  11.715028   8.694123\n",
            "15   8.599056  10.669304   7.077342  11.671340   4.854307\n",
            "16  11.285042   9.491689  12.627005  10.767020  14.124060\n",
            "17  10.252179  10.904350  14.577295   9.440770   8.512321\n",
            "18   9.567708   4.656585   7.465432  11.882203  12.197191\n",
            "19   5.206427  11.306074  12.937367  11.569889   5.776137\n",
            "20  10.093759  11.415795  10.648614   7.967249   8.494862\n"
          ],
          "name": "stdout"
        }
      ]
    },
    {
      "cell_type": "markdown",
      "metadata": {
        "id": "slV8H9aOvFwt"
      },
      "source": [
        "# Exercício 3\n",
        "\n",
        "Gere uma distribuição normal padrão e utilize o módulo Seaborn para construir uma visualização dos dados. A amostra deve conter 3000 números. Use a função distplot() do módulo Seaborn e importe também"
      ]
    },
    {
      "cell_type": "code",
      "metadata": {
        "colab": {
          "base_uri": "https://localhost:8080/",
          "height": 774
        },
        "id": "QdnnjaSQvHLS",
        "outputId": "ac98ca68-82c8-4c72-afe7-0f0603abc584"
      },
      "source": [
        "amostra = random.normal(size=3000)\n",
        "print(amostra)\n",
        "sns.displot(amostra, kind = 'kde')\n",
        "sns.displot(amostra, kind = 'hist')"
      ],
      "execution_count": 69,
      "outputs": [
        {
          "output_type": "stream",
          "text": [
            "[ 1.03286459  0.83693645  0.02390235 ... -0.16315009 -0.37044395\n",
            "  0.92595397]\n"
          ],
          "name": "stdout"
        },
        {
          "output_type": "execute_result",
          "data": {
            "text/plain": [
              "<seaborn.axisgrid.FacetGrid at 0x7f87c1e1bd50>"
            ]
          },
          "metadata": {
            "tags": []
          },
          "execution_count": 69
        },
        {
          "output_type": "display_data",
          "data": {
            "image/png": "[encoded data removed]",
            "text/plain": [
              "<Figure size 360x360 with 1 Axes>"
            ]
          },
          "metadata": {
            "tags": [],
            "needs_background": "light"
          }
        },
        {
          "output_type": "display_data",
          "data": {
            "image/png": "[encoded data removed]",
            "text/plain": [
              "<Figure size 360x360 with 1 Axes>"
            ]
          },
          "metadata": {
            "tags": [],
            "needs_background": "light"
          }
        }
      ]
    },
    {
      "cell_type": "markdown",
      "metadata": {
        "id": "W2rXLxtny2uJ"
      },
      "source": [
        "# Exercício 4\n",
        "\n",
        "A distribuição binomial é uma distribuição discreta de probabilidade e descreve resultados binários, como sucesso e fracasso ou cara e coroa, por exemplo. Podemos criar dados aleatórios para esta distribuição com a função np.random.binomial().Sendo:\n",
        "\n",
        "n: número de tentativas;\n",
        "\n",
        "p: probabilidade de ocorrência de cada tentativa;\n",
        "\n",
        "size: tamanho do vetor retornado (shape).\n",
        "\n",
        "Com base nestas informações:\n",
        "\n",
        "Gere números aleatórios seguindo uma distribuição binomial, com 6 tentativas, em que a probabilidade de ocorrência de cada tentativa é 0.5, e tamanho 100. Armazene os dados em uma variável, 'data1'.\n",
        "\n",
        "Gere números aleatórios seguindo uma distribuição binomial, com 2 tentativas, em que a probabilidade de ocorrência de cada tentativa é 0.8, e tamanho 1000. Armazene os dados em uma variável, 'data2'."
      ]
    },
    {
      "cell_type": "code",
      "metadata": {
        "colab": {
          "base_uri": "https://localhost:8080/"
        },
        "id": "lgTh8DFi4XwP",
        "outputId": "94911555-263a-4e3e-a1f2-0638f4225844"
      },
      "source": [
        "data1 = np.random.binomial(n=6,p=0.5,size=100)\n",
        "data2 = np.random.binomial(n=2,p=0.8,size=1000)\n",
        "print(data1)"
      ],
      "execution_count": 70,
      "outputs": [
        {
          "output_type": "stream",
          "text": [
            "[5 5 4 3 2 3 2 4 3 3 1 2 2 3 2 5 1 4 3 3 3 1 4 5 4 1 3 1 3 2 2 3 2 1 3 2 4\n",
            " 5 4 4 2 1 2 2 6 5 2 4 4 3 3 2 2 1 4 2 4 5 4 2 1 4 3 3 3 4 1 2 2 3 3 2 1 4\n",
            " 4 0 4 1 4 3 3 4 4 1 3 3 2 4 2 3 2 4 3 1 3 1 6 2 3 5]\n"
          ],
          "name": "stdout"
        }
      ]
    },
    {
      "cell_type": "markdown",
      "metadata": {
        "id": "PkgIRrdq5Yuj"
      },
      "source": [
        "# Exercício 5\n",
        "\n",
        "Use o módulo Seaborn para visualizar a distribuição de números aleatórios oriunda de uma distribuição binomial, com 6 tentativas, probabilidade 0.5 e tamanho 3000."
      ]
    },
    {
      "cell_type": "code",
      "metadata": {
        "colab": {
          "base_uri": "https://localhost:8080/",
          "height": 386
        },
        "id": "7Z2_6uuv5aj_",
        "outputId": "83f5331f-8c8f-4f3e-d8fc-0e7fce6ba544"
      },
      "source": [
        "data = np.random.binomial(n=6,p=0.6,size=3000)\n",
        "sns.displot(data, kind='kde')"
      ],
      "execution_count": 74,
      "outputs": [
        {
          "output_type": "execute_result",
          "data": {
            "text/plain": [
              "<seaborn.axisgrid.FacetGrid at 0x7f87c1323610>"
            ]
          },
          "metadata": {
            "tags": []
          },
          "execution_count": 74
        },
        {
          "output_type": "display_data",
          "data": {
            "image/png": "[encoded data removed]",
            "text/plain": [
              "<Figure size 360x360 with 1 Axes>"
            ]
          },
          "metadata": {
            "tags": [],
            "needs_background": "light"
          }
        }
      ]
    },
    {
      "cell_type": "markdown",
      "metadata": {
        "id": "dsANzNyQ6AqR"
      },
      "source": [
        "# Exercício 6\n",
        "\n",
        "A distribuição uniforme é uma distribuição contínua de probabilidade, com importantes aplicações em estatística. Gere uma amostra da distribuição uniforme de shape 3 x 3."
      ]
    },
    {
      "cell_type": "code",
      "metadata": {
        "colab": {
          "base_uri": "https://localhost:8080/",
          "height": 457
        },
        "id": "TsIjcpH16HtI",
        "outputId": "78b52c29-70c7-4e73-c555-3235b6205742"
      },
      "source": [
        "a = random.uniform(10,3,size = (3, 3))\n",
        "df = pd.DataFrame(a, columns = list('ABC'), index = range(1,a.shape[0]+1))\n",
        "print(df)\n",
        "sns.displot(a, kind='kde')"
      ],
      "execution_count": 91,
      "outputs": [
        {
          "output_type": "stream",
          "text": [
            "          A         B         C\n",
            "1  9.099849  5.515320  8.291191\n",
            "2  6.828520  9.106777  8.552921\n",
            "3  7.675353  4.341427  7.763702\n"
          ],
          "name": "stdout"
        },
        {
          "output_type": "execute_result",
          "data": {
            "text/plain": [
              "<seaborn.axisgrid.FacetGrid at 0x7f87c0fee1d0>"
            ]
          },
          "metadata": {
            "tags": []
          },
          "execution_count": 91
        },
        {
          "output_type": "display_data",
          "data": {
            "image/png": "[encoded data removed]",
            "text/plain": [
              "<Figure size 402.375x360 with 1 Axes>"
            ]
          },
          "metadata": {
            "tags": [],
            "needs_background": "light"
          }
        }
      ]
    },
    {
      "cell_type": "markdown",
      "metadata": {
        "id": "AXrz7IjUBlYz"
      },
      "source": [
        "# Exercício 7\n",
        "\n",
        "Use o módulo Seaborn para visualizar a distribuição de números aleatórios oriunda de uma distribuição uniforme, de tamanho 1000."
      ]
    },
    {
      "cell_type": "code",
      "metadata": {
        "id": "tqOP0IQDBp0Y",
        "outputId": "9c640fc0-c6be-4d94-960a-b4929c8f7ed1",
        "colab": {
          "base_uri": "https://localhost:8080/",
          "height": 386
        }
      },
      "source": [
        "a = random.uniform(size=1000)\n",
        "sns.displot(a,kind='kde')"
      ],
      "execution_count": 96,
      "outputs": [
        {
          "output_type": "execute_result",
          "data": {
            "text/plain": [
              "<seaborn.axisgrid.FacetGrid at 0x7f87c0e3ee10>"
            ]
          },
          "metadata": {
            "tags": []
          },
          "execution_count": 96
        },
        {
          "output_type": "display_data",
          "data": {
            "image/png": "[encoded data removed]",
            "text/plain": [
              "<Figure size 360x360 with 1 Axes>"
            ]
          },
          "metadata": {
            "tags": [],
            "needs_background": "light"
          }
        }
      ]
    },
    {
      "cell_type": "markdown",
      "metadata": {
        "id": "bJNX1eUwCWOH"
      },
      "source": [
        "# Exercício 8\n",
        "\n",
        "Gere um array com números aleatórios entre -1000 e 3000, de shape (30, 5)."
      ]
    },
    {
      "cell_type": "code",
      "metadata": {
        "id": "gf8Yuel9CaUS",
        "outputId": "85500891-62ff-4196-c59a-6c0d375c5c02",
        "colab": {
          "base_uri": "https://localhost:8080/"
        }
      },
      "source": [
        "random.randint(low = -1000, high = 3000, size = (30,5))"
      ],
      "execution_count": 97,
      "outputs": [
        {
          "output_type": "execute_result",
          "data": {
            "text/plain": [
              "array([[2396,  885, -927, 1167,  977],\n",
              "       [ 153, 1479, 1375, -794, -458],\n",
              "       [-310, 2994, 1285, 2166, 2091],\n",
              "       [ 675, -119,  351, -322,  481],\n",
              "       [2028, -592, 1596,  911, 2957],\n",
              "       [2255, 1946,  -46, 1630, 1967],\n",
              "       [2757, 2080, 2367, 1740,  621],\n",
              "       [-169, 1501, 1873,  345, -529],\n",
              "       [ 998, 1128, 2418, 1294, -290],\n",
              "       [1112, 2845, 2200, 2788, -601],\n",
              "       [-577, 2303,  385, -401, -512],\n",
              "       [2075, -123, -738,  406, -570],\n",
              "       [-368,  379,   58,  883, 1738],\n",
              "       [ 300, 1891, 1239,  896, 2322],\n",
              "       [2549, -953, 1309, 1762,  404],\n",
              "       [-933,  -68, 1146, -121, 1544],\n",
              "       [-236, -511, 2851, 1480, -595],\n",
              "       [2998, -215, 1864, 1826,  709],\n",
              "       [-528, -794, 1140, 1248, 1813],\n",
              "       [2532, 1176, 2366, -960,   83],\n",
              "       [ 986, 2200, 2622, 1675,  261],\n",
              "       [1151,  365, -563, 2222, 2010],\n",
              "       [-302, 2034,  381,  561, 1152],\n",
              "       [ 974, 1204, 2497,  369, 2372],\n",
              "       [ 678, 2531, 2308, 1862, 1147],\n",
              "       [2747,  288, -193,  214, -387],\n",
              "       [-723,  -28, -622, 1148, -172],\n",
              "       [1156, 2026, -596,   93, -722],\n",
              "       [ 909,  919, 2193,  711, 1014],\n",
              "       [ 520, 1034,  -95,  465,  145]])"
            ]
          },
          "metadata": {
            "tags": []
          },
          "execution_count": 97
        }
      ]
    },
    {
      "cell_type": "markdown",
      "metadata": {
        "id": "2M9WXRdzEZGy"
      },
      "source": [
        "# Exercício 9\n",
        "\n",
        "Gere um array de shape 30 x 5 com números entre 0 e 4, inclusive."
      ]
    },
    {
      "cell_type": "code",
      "metadata": {
        "id": "vd-wQPKUNcSn",
        "outputId": "95eef0fe-21e2-441e-c6ab-efd79376022a",
        "colab": {
          "base_uri": "https://localhost:8080/"
        }
      },
      "source": [
        "a = random.randint(0,5,(30,5))\n",
        "print(a)"
      ],
      "execution_count": 100,
      "outputs": [
        {
          "output_type": "stream",
          "text": [
            "[[2 2 3 0 1]\n",
            " [0 4 1 0 3]\n",
            " [4 4 4 3 4]\n",
            " [0 3 1 1 3]\n",
            " [2 4 4 3 2]\n",
            " [0 3 2 0 2]\n",
            " [1 1 3 2 0]\n",
            " [2 4 0 3 2]\n",
            " [2 0 2 3 1]\n",
            " [4 1 3 4 0]\n",
            " [2 2 2 1 3]\n",
            " [2 1 0 1 1]\n",
            " [0 1 0 1 2]\n",
            " [3 2 1 4 4]\n",
            " [0 2 0 1 1]\n",
            " [1 4 1 4 4]\n",
            " [3 3 1 1 0]\n",
            " [4 4 0 4 4]\n",
            " [3 3 0 1 4]\n",
            " [1 4 0 4 2]\n",
            " [3 4 0 4 3]\n",
            " [4 4 2 1 1]\n",
            " [2 4 4 3 2]\n",
            " [4 4 1 4 4]\n",
            " [4 2 1 1 2]\n",
            " [2 4 2 0 3]\n",
            " [2 3 4 1 3]\n",
            " [1 0 0 4 4]\n",
            " [2 3 1 0 3]\n",
            " [4 2 2 2 3]]\n"
          ],
          "name": "stdout"
        }
      ]
    },
    {
      "cell_type": "markdown",
      "metadata": {
        "id": "KbgUWc9fPAtz"
      },
      "source": [
        "# Exercício 10\n",
        "\n",
        "Gere um array de números inteiros com limites superiores diferentes (100, 300, 50, 10000), mas com valor mínimo 10."
      ]
    },
    {
      "cell_type": "code",
      "metadata": {
        "id": "EzEa4FWuPD7Z",
        "outputId": "f7d3e3ac-bee4-45d1-d4b4-6bdf961f52c0",
        "colab": {
          "base_uri": "https://localhost:8080/"
        }
      },
      "source": [
        "a = random.randint(low = 10, high = [100, 300, 50, 10000])\n",
        "print(a)"
      ],
      "execution_count": 123,
      "outputs": [
        {
          "output_type": "stream",
          "text": [
            "[  70   88   25 8411]\n"
          ],
          "name": "stdout"
        }
      ]
    },
    {
      "cell_type": "markdown",
      "metadata": {
        "id": "TwSdaNBDUbwP"
      },
      "source": [
        "# Exercício 11\n",
        "\n",
        "Utilize a função np.random.rand() para gerar um array 10 x 5. Lembre que esta função gera por padrão números aleatórios de acordo com uma distribuição uniforme no intervalo [0,1). Em seguida mostre na tela a média, desvio padrão e mediana do array gerado."
      ]
    },
    {
      "cell_type": "code",
      "metadata": {
        "id": "JoAOC5n6UgKy",
        "outputId": "cd77f09d-278a-4e9e-ad79-7da2d857c400",
        "colab": {
          "base_uri": "https://localhost:8080/"
        }
      },
      "source": [
        "a = random.rand(10,5)\n",
        "print(a)\n",
        "\n",
        "print(f'Média: {a.mean().round(2)}')\n",
        "print(f'Desvio padrão: {a.std().round(2)}')\n",
        "print(f'Mediana: {np.median(a).round(2)}')"
      ],
      "execution_count": 126,
      "outputs": [
        {
          "output_type": "stream",
          "text": [
            "[[9.10510529e-01 9.00980127e-01 5.74112726e-01 3.92911051e-01\n",
            "  8.95231814e-02]\n",
            " [4.47071368e-01 1.74566992e-01 8.57013590e-01 8.74792178e-01\n",
            "  5.50436952e-01]\n",
            " [5.82123224e-02 2.33009977e-01 6.89061165e-02 4.36855975e-01\n",
            "  3.79796911e-01]\n",
            " [1.56867030e-01 8.05633517e-04 5.14917374e-01 5.02522207e-01\n",
            "  1.47830874e-01]\n",
            " [2.06953234e-01 8.10457569e-01 6.10977773e-01 4.07201147e-01\n",
            "  9.00480377e-01]\n",
            " [3.94432616e-01 4.41251895e-01 4.36456240e-01 8.56543392e-01\n",
            "  8.40799825e-01]\n",
            " [4.34470292e-01 7.98117691e-01 5.36996761e-01 7.25458408e-01\n",
            "  6.49558976e-01]\n",
            " [3.53370131e-01 4.82560279e-01 6.33051278e-01 8.04645226e-01\n",
            "  7.39923637e-02]\n",
            " [5.62116788e-01 2.87396105e-02 9.27553992e-01 6.79799611e-01\n",
            "  6.94700993e-01]\n",
            " [2.19697496e-01 7.78673893e-01 3.22950046e-02 2.26309113e-02\n",
            "  7.90283173e-01]]\n",
            "Média: 0.49\n",
            "Desvio padrão: 0.29\n",
            "Mediana: 0.49\n"
          ],
          "name": "stdout"
        }
      ]
    },
    {
      "cell_type": "markdown",
      "metadata": {
        "id": "huw23aEsZIrK"
      },
      "source": [
        "# Exercício 12\n",
        "\n",
        "Use a função np.random.randn() para gerar um array com números aleatórios de uma distribuição normal padrão, de shape 30 x 3. Seguidamente, crie um DataFrame com os dados criados e gere uma visualização da distribuição de probabilidade de cada coluna com o módulo Seaborn."
      ]
    },
    {
      "cell_type": "code",
      "metadata": {
        "id": "AaMr6TBeZLo9",
        "outputId": "dd007447-2510-4763-a286-cf59016e999d",
        "colab": {
          "base_uri": "https://localhost:8080/",
          "height": 550
        }
      },
      "source": [
        "a = random.randn(30,3)\n",
        "b = pd.DataFrame(data=a, columns = list('ABC'), index=range(1,a.shape[0]+1))\n",
        "sns.displot(b,kind='kde')\n",
        "b.head()"
      ],
      "execution_count": 11,
      "outputs": [
        {
          "output_type": "execute_result",
          "data": {
            "text/html": [
              "<div>\n",
              "<style scoped>\n",
              "    .dataframe tbody tr th:only-of-type {\n",
              "        vertical-align: middle;\n",
              "    }\n",
              "\n",
              "    .dataframe tbody tr th {\n",
              "        vertical-align: top;\n",
              "    }\n",
              "\n",
              "    .dataframe thead th {\n",
              "        text-align: right;\n",
              "    }\n",
              "</style>\n",
              "<table border=\"1\" class=\"dataframe\">\n",
              "  <thead>\n",
              "    <tr style=\"text-align: right;\">\n",
              "      <th></th>\n",
              "      <th>A</th>\n",
              "      <th>B</th>\n",
              "      <th>C</th>\n",
              "    </tr>\n",
              "  </thead>\n",
              "  <tbody>\n",
              "    <tr>\n",
              "      <th>1</th>\n",
              "      <td>-0.034653</td>\n",
              "      <td>-0.591954</td>\n",
              "      <td>0.541431</td>\n",
              "    </tr>\n",
              "    <tr>\n",
              "      <th>2</th>\n",
              "      <td>-0.029329</td>\n",
              "      <td>0.598908</td>\n",
              "      <td>-1.397548</td>\n",
              "    </tr>\n",
              "    <tr>\n",
              "      <th>3</th>\n",
              "      <td>0.063763</td>\n",
              "      <td>-0.282023</td>\n",
              "      <td>-0.688713</td>\n",
              "    </tr>\n",
              "    <tr>\n",
              "      <th>4</th>\n",
              "      <td>1.005437</td>\n",
              "      <td>0.055156</td>\n",
              "      <td>-0.589354</td>\n",
              "    </tr>\n",
              "    <tr>\n",
              "      <th>5</th>\n",
              "      <td>0.202948</td>\n",
              "      <td>-1.436071</td>\n",
              "      <td>0.997687</td>\n",
              "    </tr>\n",
              "  </tbody>\n",
              "</table>\n",
              "</div>"
            ],
            "text/plain": [
              "          A         B         C\n",
              "1 -0.034653 -0.591954  0.541431\n",
              "2 -0.029329  0.598908 -1.397548\n",
              "3  0.063763 -0.282023 -0.688713\n",
              "4  1.005437  0.055156 -0.589354\n",
              "5  0.202948 -1.436071  0.997687"
            ]
          },
          "metadata": {
            "tags": []
          },
          "execution_count": 11
        },
        {
          "output_type": "display_data",
          "data": {
            "image/png": "[encoded data removed]",
            "text/plain": [
              "<Figure size 402.875x360 with 1 Axes>"
            ]
          },
          "metadata": {
            "tags": [],
            "needs_background": "light"
          }
        }
      ]
    },
    {
      "cell_type": "markdown",
      "metadata": {
        "id": "9XonMDzj7ocY"
      },
      "source": [
        "# Exercício 12\n",
        "\n",
        "Use a função np.random.randn() para gerar um array com números aleatórios de uma distribuição normal padrão, de shape 30 x 3. Seguidamente, crie um DataFrame com os dados criados e gere uma visualização da distribuição de probabilidade de cada coluna com o módulo Seaborn."
      ]
    }
  ]
}